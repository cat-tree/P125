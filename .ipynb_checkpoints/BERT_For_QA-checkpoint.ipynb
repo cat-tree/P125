{
 "cells": [
  {
   "cell_type": "code",
   "execution_count": 25,
   "id": "3a61327b",
   "metadata": {},
   "outputs": [
    {
     "name": "stdout",
     "output_type": "stream",
     "text": [
      "The number of incidents in the set is 7760\n"
     ]
    },
    {
     "data": {
      "text/html": [
       "<div>\n",
       "<style scoped>\n",
       "    .dataframe tbody tr th:only-of-type {\n",
       "        vertical-align: middle;\n",
       "    }\n",
       "\n",
       "    .dataframe tbody tr th {\n",
       "        vertical-align: top;\n",
       "    }\n",
       "\n",
       "    .dataframe thead th {\n",
       "        text-align: right;\n",
       "    }\n",
       "</style>\n",
       "<table border=\"1\" class=\"dataframe\">\n",
       "  <thead>\n",
       "    <tr style=\"text-align: right;\">\n",
       "      <th></th>\n",
       "      <th>call_number</th>\n",
       "      <th>unit_id</th>\n",
       "      <th>incident_number</th>\n",
       "      <th>call_type</th>\n",
       "      <th>call_date</th>\n",
       "      <th>watch_date</th>\n",
       "      <th>received_dttm</th>\n",
       "      <th>entry_dttm</th>\n",
       "      <th>dispatch_dttm</th>\n",
       "      <th>response_dttm</th>\n",
       "      <th>...</th>\n",
       "      <th>number_of_alarms</th>\n",
       "      <th>unit_type</th>\n",
       "      <th>unit_sequence_in_call_dispatch</th>\n",
       "      <th>fire_prevention_district</th>\n",
       "      <th>supervisor_district</th>\n",
       "      <th>neighborhoods_analysis_boundaries</th>\n",
       "      <th>rowid</th>\n",
       "      <th>case_location</th>\n",
       "      <th>transport_dttm</th>\n",
       "      <th>hospital_dttm</th>\n",
       "    </tr>\n",
       "  </thead>\n",
       "  <tbody>\n",
       "    <tr>\n",
       "      <th>11</th>\n",
       "      <td>220280171</td>\n",
       "      <td>56</td>\n",
       "      <td>22013069</td>\n",
       "      <td>Medical Incident</td>\n",
       "      <td>2022-01-28T00:00:00.000</td>\n",
       "      <td>2022-01-27T00:00:00.000</td>\n",
       "      <td>2022-01-28T02:42:34.000</td>\n",
       "      <td>2022-01-28T02:43:27.000</td>\n",
       "      <td>2022-01-28T02:43:40.000</td>\n",
       "      <td>2022-01-28T02:43:46.000</td>\n",
       "      <td>...</td>\n",
       "      <td>1</td>\n",
       "      <td>MEDIC</td>\n",
       "      <td>2</td>\n",
       "      <td>4</td>\n",
       "      <td>2</td>\n",
       "      <td>Marina</td>\n",
       "      <td>220280171-56</td>\n",
       "      <td>{'type': 'Point', 'coordinates': [-122.4293712...</td>\n",
       "      <td>2022-01-28T03:26:14.000</td>\n",
       "      <td>2022-01-28T03:42:33.000</td>\n",
       "    </tr>\n",
       "    <tr>\n",
       "      <th>17</th>\n",
       "      <td>220282987</td>\n",
       "      <td>53</td>\n",
       "      <td>22013418</td>\n",
       "      <td>Medical Incident</td>\n",
       "      <td>2022-01-28T00:00:00.000</td>\n",
       "      <td>2022-01-28T00:00:00.000</td>\n",
       "      <td>2022-01-28T20:13:58.000</td>\n",
       "      <td>2022-01-28T20:16:01.000</td>\n",
       "      <td>2022-01-28T20:16:43.000</td>\n",
       "      <td>2022-01-28T20:16:47.000</td>\n",
       "      <td>...</td>\n",
       "      <td>1</td>\n",
       "      <td>MEDIC</td>\n",
       "      <td>1</td>\n",
       "      <td>1</td>\n",
       "      <td>3</td>\n",
       "      <td>Chinatown</td>\n",
       "      <td>220282987-53</td>\n",
       "      <td>{'type': 'Point', 'coordinates': [-122.4113164...</td>\n",
       "      <td>2022-01-28T21:01:56.000</td>\n",
       "      <td>2022-01-28T21:09:30.000</td>\n",
       "    </tr>\n",
       "    <tr>\n",
       "      <th>23</th>\n",
       "      <td>220283458</td>\n",
       "      <td>83</td>\n",
       "      <td>22013485</td>\n",
       "      <td>Medical Incident</td>\n",
       "      <td>2022-01-28T00:00:00.000</td>\n",
       "      <td>2022-01-28T00:00:00.000</td>\n",
       "      <td>2022-01-28T23:28:12.000</td>\n",
       "      <td>2022-01-28T23:28:46.000</td>\n",
       "      <td>2022-01-28T23:29:21.000</td>\n",
       "      <td>2022-01-28T23:30:11.000</td>\n",
       "      <td>...</td>\n",
       "      <td>1</td>\n",
       "      <td>MEDIC</td>\n",
       "      <td>2</td>\n",
       "      <td>4</td>\n",
       "      <td>6</td>\n",
       "      <td>Tenderloin</td>\n",
       "      <td>220283458-83</td>\n",
       "      <td>{'type': 'Point', 'coordinates': [-122.4198542...</td>\n",
       "      <td>2022-01-28T23:49:44.000</td>\n",
       "      <td>2022-01-28T23:54:49.000</td>\n",
       "    </tr>\n",
       "    <tr>\n",
       "      <th>32</th>\n",
       "      <td>220283056</td>\n",
       "      <td>89</td>\n",
       "      <td>22013431</td>\n",
       "      <td>Medical Incident</td>\n",
       "      <td>2022-01-28T00:00:00.000</td>\n",
       "      <td>2022-01-28T00:00:00.000</td>\n",
       "      <td>2022-01-28T20:39:59.000</td>\n",
       "      <td>2022-01-28T20:42:24.000</td>\n",
       "      <td>2022-01-28T20:42:50.000</td>\n",
       "      <td>2022-01-28T20:42:56.000</td>\n",
       "      <td>...</td>\n",
       "      <td>1</td>\n",
       "      <td>MEDIC</td>\n",
       "      <td>1</td>\n",
       "      <td>7</td>\n",
       "      <td>1</td>\n",
       "      <td>Golden Gate Park</td>\n",
       "      <td>220283056-89</td>\n",
       "      <td>{'type': 'Point', 'coordinates': [-122.4682081...</td>\n",
       "      <td>2022-01-28T20:57:35.000</td>\n",
       "      <td>2022-01-28T21:01:57.000</td>\n",
       "    </tr>\n",
       "    <tr>\n",
       "      <th>37</th>\n",
       "      <td>220281459</td>\n",
       "      <td>78</td>\n",
       "      <td>22013231</td>\n",
       "      <td>Medical Incident</td>\n",
       "      <td>2022-01-28T00:00:00.000</td>\n",
       "      <td>2022-01-28T00:00:00.000</td>\n",
       "      <td>2022-01-28T12:31:23.000</td>\n",
       "      <td>2022-01-28T12:32:19.000</td>\n",
       "      <td>2022-01-28T12:36:48.000</td>\n",
       "      <td>2022-01-28T12:36:59.000</td>\n",
       "      <td>...</td>\n",
       "      <td>1</td>\n",
       "      <td>MEDIC</td>\n",
       "      <td>3</td>\n",
       "      <td>1</td>\n",
       "      <td>3</td>\n",
       "      <td>Chinatown</td>\n",
       "      <td>220281459-78</td>\n",
       "      <td>{'type': 'Point', 'coordinates': [-122.4078279...</td>\n",
       "      <td>2022-01-28T13:13:53.000</td>\n",
       "      <td>2022-01-28T13:34:44.000</td>\n",
       "    </tr>\n",
       "  </tbody>\n",
       "</table>\n",
       "<p>5 rows × 34 columns</p>\n",
       "</div>"
      ],
      "text/plain": [
       "    call_number unit_id  incident_number         call_type  \\\n",
       "11    220280171      56         22013069  Medical Incident   \n",
       "17    220282987      53         22013418  Medical Incident   \n",
       "23    220283458      83         22013485  Medical Incident   \n",
       "32    220283056      89         22013431  Medical Incident   \n",
       "37    220281459      78         22013231  Medical Incident   \n",
       "\n",
       "                  call_date               watch_date            received_dttm  \\\n",
       "11  2022-01-28T00:00:00.000  2022-01-27T00:00:00.000  2022-01-28T02:42:34.000   \n",
       "17  2022-01-28T00:00:00.000  2022-01-28T00:00:00.000  2022-01-28T20:13:58.000   \n",
       "23  2022-01-28T00:00:00.000  2022-01-28T00:00:00.000  2022-01-28T23:28:12.000   \n",
       "32  2022-01-28T00:00:00.000  2022-01-28T00:00:00.000  2022-01-28T20:39:59.000   \n",
       "37  2022-01-28T00:00:00.000  2022-01-28T00:00:00.000  2022-01-28T12:31:23.000   \n",
       "\n",
       "                 entry_dttm            dispatch_dttm            response_dttm  \\\n",
       "11  2022-01-28T02:43:27.000  2022-01-28T02:43:40.000  2022-01-28T02:43:46.000   \n",
       "17  2022-01-28T20:16:01.000  2022-01-28T20:16:43.000  2022-01-28T20:16:47.000   \n",
       "23  2022-01-28T23:28:46.000  2022-01-28T23:29:21.000  2022-01-28T23:30:11.000   \n",
       "32  2022-01-28T20:42:24.000  2022-01-28T20:42:50.000  2022-01-28T20:42:56.000   \n",
       "37  2022-01-28T12:32:19.000  2022-01-28T12:36:48.000  2022-01-28T12:36:59.000   \n",
       "\n",
       "    ... number_of_alarms unit_type unit_sequence_in_call_dispatch  \\\n",
       "11  ...                1     MEDIC                              2   \n",
       "17  ...                1     MEDIC                              1   \n",
       "23  ...                1     MEDIC                              2   \n",
       "32  ...                1     MEDIC                              1   \n",
       "37  ...                1     MEDIC                              3   \n",
       "\n",
       "   fire_prevention_district supervisor_district  \\\n",
       "11                        4                   2   \n",
       "17                        1                   3   \n",
       "23                        4                   6   \n",
       "32                        7                   1   \n",
       "37                        1                   3   \n",
       "\n",
       "    neighborhoods_analysis_boundaries         rowid  \\\n",
       "11                             Marina  220280171-56   \n",
       "17                          Chinatown  220282987-53   \n",
       "23                         Tenderloin  220283458-83   \n",
       "32                   Golden Gate Park  220283056-89   \n",
       "37                          Chinatown  220281459-78   \n",
       "\n",
       "                                        case_location  \\\n",
       "11  {'type': 'Point', 'coordinates': [-122.4293712...   \n",
       "17  {'type': 'Point', 'coordinates': [-122.4113164...   \n",
       "23  {'type': 'Point', 'coordinates': [-122.4198542...   \n",
       "32  {'type': 'Point', 'coordinates': [-122.4682081...   \n",
       "37  {'type': 'Point', 'coordinates': [-122.4078279...   \n",
       "\n",
       "             transport_dttm            hospital_dttm  \n",
       "11  2022-01-28T03:26:14.000  2022-01-28T03:42:33.000  \n",
       "17  2022-01-28T21:01:56.000  2022-01-28T21:09:30.000  \n",
       "23  2022-01-28T23:49:44.000  2022-01-28T23:54:49.000  \n",
       "32  2022-01-28T20:57:35.000  2022-01-28T21:01:57.000  \n",
       "37  2022-01-28T13:13:53.000  2022-01-28T13:34:44.000  \n",
       "\n",
       "[5 rows x 34 columns]"
      ]
     },
     "execution_count": 25,
     "metadata": {},
     "output_type": "execute_result"
    }
   ],
   "source": [
    "import pandas as pd\n",
    "import datetime\n",
    "# set 10 day lookback window\n",
    "periodend = datetime.datetime.now().isoformat()\n",
    "periodstart = (datetime.datetime.now()- datetime.timedelta(days=10)).isoformat()\n",
    "#Get count of incidents to determine limit to retrieve\n",
    "num=pd.read_json(\"https://data.sfgov.org/resource/RowID.json?$select=COUNT(incident_number)&$where=call_date%20between%20%27\"\n",
    "                 +str(periodstart)+\"%27%20AND%20%27\"+str(periodend)+\"%27\")\n",
    "maxNumber=num.iloc[0,0]\n",
    "print('The number of incidents in the set is',maxNumber)\n",
    "# Use record to write query call to API to get all incidents needed/bypass API default of 1000\n",
    "query_str=(\"https://data.sfgov.org/resource/RowID.json?$where=call_date%20between%20%27\"\n",
    "           +str(periodstart)+\"%27%20AND%20%27\"\n",
    "           +str(periodend)+\"%27&$limit=\"+str(maxNumber))\n",
    "cfs_data=pd.read_json(query_str)\n",
    "cfs_data=cfs_data.dropna()\n",
    "cfs_data.head()"
   ]
  },
  {
   "cell_type": "code",
   "execution_count": 3,
   "id": "f3942962",
   "metadata": {},
   "outputs": [],
   "source": [
    "# https://towardsdatascience.com/question-answering-with-pretrained-transformers-using-pytorch-c3e7a44b4012\n",
    "from transformers import pipeline"
   ]
  },
  {
   "cell_type": "code",
   "execution_count": 4,
   "id": "a46c6985",
   "metadata": {},
   "outputs": [
    {
     "name": "stderr",
     "output_type": "stream",
     "text": [
      "No model was supplied, defaulted to distilbert-base-cased-distilled-squad (https://huggingface.co/distilbert-base-cased-distilled-squad)\n"
     ]
    },
    {
     "data": {
      "application/vnd.jupyter.widget-view+json": {
       "model_id": "22869fc641be4318a959efec8ab5792a",
       "version_major": 2,
       "version_minor": 0
      },
      "text/plain": [
       "Downloading:   0%|          | 0.00/473 [00:00<?, ?B/s]"
      ]
     },
     "metadata": {},
     "output_type": "display_data"
    },
    {
     "data": {
      "application/vnd.jupyter.widget-view+json": {
       "model_id": "409059c76ff549488e0437cf2b3cf36e",
       "version_major": 2,
       "version_minor": 0
      },
      "text/plain": [
       "Downloading:   0%|          | 0.00/249M [00:00<?, ?B/s]"
      ]
     },
     "metadata": {},
     "output_type": "display_data"
    },
    {
     "data": {
      "application/vnd.jupyter.widget-view+json": {
       "model_id": "7249f64b656648269e324596509ce0ee",
       "version_major": 2,
       "version_minor": 0
      },
      "text/plain": [
       "Downloading:   0%|          | 0.00/29.0 [00:00<?, ?B/s]"
      ]
     },
     "metadata": {},
     "output_type": "display_data"
    },
    {
     "data": {
      "application/vnd.jupyter.widget-view+json": {
       "model_id": "eb65c162c22e40b7bf16522c9b0017e3",
       "version_major": 2,
       "version_minor": 0
      },
      "text/plain": [
       "Downloading:   0%|          | 0.00/208k [00:00<?, ?B/s]"
      ]
     },
     "metadata": {},
     "output_type": "display_data"
    },
    {
     "data": {
      "application/vnd.jupyter.widget-view+json": {
       "model_id": "290323aa06f744ae98faca218d2f3a5c",
       "version_major": 2,
       "version_minor": 0
      },
      "text/plain": [
       "Downloading:   0%|          | 0.00/426k [00:00<?, ?B/s]"
      ]
     },
     "metadata": {},
     "output_type": "display_data"
    }
   ],
   "source": [
    "qa = pipeline(\"question-answering\")"
   ]
  },
  {
   "cell_type": "code",
   "execution_count": 27,
   "id": "1c15c3db",
   "metadata": {},
   "outputs": [
    {
     "data": {
      "text/html": [
       "<div>\n",
       "<style scoped>\n",
       "    .dataframe tbody tr th:only-of-type {\n",
       "        vertical-align: middle;\n",
       "    }\n",
       "\n",
       "    .dataframe tbody tr th {\n",
       "        vertical-align: top;\n",
       "    }\n",
       "\n",
       "    .dataframe thead th {\n",
       "        text-align: right;\n",
       "    }\n",
       "</style>\n",
       "<table border=\"1\" class=\"dataframe\">\n",
       "  <thead>\n",
       "    <tr style=\"text-align: right;\">\n",
       "      <th></th>\n",
       "      <th>call_number</th>\n",
       "      <th>unit_id</th>\n",
       "      <th>incident_number</th>\n",
       "      <th>call_type</th>\n",
       "      <th>call_date</th>\n",
       "      <th>watch_date</th>\n",
       "      <th>received_dttm</th>\n",
       "      <th>entry_dttm</th>\n",
       "      <th>dispatch_dttm</th>\n",
       "      <th>response_dttm</th>\n",
       "      <th>...</th>\n",
       "      <th>number_of_alarms</th>\n",
       "      <th>unit_type</th>\n",
       "      <th>unit_sequence_in_call_dispatch</th>\n",
       "      <th>fire_prevention_district</th>\n",
       "      <th>supervisor_district</th>\n",
       "      <th>neighborhoods_analysis_boundaries</th>\n",
       "      <th>rowid</th>\n",
       "      <th>case_location</th>\n",
       "      <th>transport_dttm</th>\n",
       "      <th>hospital_dttm</th>\n",
       "    </tr>\n",
       "  </thead>\n",
       "  <tbody>\n",
       "    <tr>\n",
       "      <th>11</th>\n",
       "      <td>call_number 220280171</td>\n",
       "      <td>unit_id 56</td>\n",
       "      <td>incident_number 22013069</td>\n",
       "      <td>call_type Medical Incident</td>\n",
       "      <td>call_date 2022-01-28T00:00:00.000</td>\n",
       "      <td>watch_date 2022-01-27T00:00:00.000</td>\n",
       "      <td>received_dttm 2022-01-28T02:42:34.000</td>\n",
       "      <td>entry_dttm 2022-01-28T02:43:27.000</td>\n",
       "      <td>dispatch_dttm 2022-01-28T02:43:40.000</td>\n",
       "      <td>response_dttm 2022-01-28T02:43:46.000</td>\n",
       "      <td>...</td>\n",
       "      <td>number_of_alarms 1</td>\n",
       "      <td>unit_type MEDIC</td>\n",
       "      <td>unit_sequence_in_call_dispatch 2</td>\n",
       "      <td>fire_prevention_district 4</td>\n",
       "      <td>supervisor_district 2</td>\n",
       "      <td>neighborhoods_analysis_boundaries Marina</td>\n",
       "      <td>rowid 220280171-56</td>\n",
       "      <td>case_location {'type': 'Point', 'coordinates':...</td>\n",
       "      <td>transport_dttm 2022-01-28T03:26:14.000</td>\n",
       "      <td>hospital_dttm 2022-01-28T03:42:33.000</td>\n",
       "    </tr>\n",
       "    <tr>\n",
       "      <th>17</th>\n",
       "      <td>call_number 220282987</td>\n",
       "      <td>unit_id 53</td>\n",
       "      <td>incident_number 22013418</td>\n",
       "      <td>call_type Medical Incident</td>\n",
       "      <td>call_date 2022-01-28T00:00:00.000</td>\n",
       "      <td>watch_date 2022-01-28T00:00:00.000</td>\n",
       "      <td>received_dttm 2022-01-28T20:13:58.000</td>\n",
       "      <td>entry_dttm 2022-01-28T20:16:01.000</td>\n",
       "      <td>dispatch_dttm 2022-01-28T20:16:43.000</td>\n",
       "      <td>response_dttm 2022-01-28T20:16:47.000</td>\n",
       "      <td>...</td>\n",
       "      <td>number_of_alarms 1</td>\n",
       "      <td>unit_type MEDIC</td>\n",
       "      <td>unit_sequence_in_call_dispatch 1</td>\n",
       "      <td>fire_prevention_district 1</td>\n",
       "      <td>supervisor_district 3</td>\n",
       "      <td>neighborhoods_analysis_boundaries Chinatown</td>\n",
       "      <td>rowid 220282987-53</td>\n",
       "      <td>case_location {'type': 'Point', 'coordinates':...</td>\n",
       "      <td>transport_dttm 2022-01-28T21:01:56.000</td>\n",
       "      <td>hospital_dttm 2022-01-28T21:09:30.000</td>\n",
       "    </tr>\n",
       "    <tr>\n",
       "      <th>23</th>\n",
       "      <td>call_number 220283458</td>\n",
       "      <td>unit_id 83</td>\n",
       "      <td>incident_number 22013485</td>\n",
       "      <td>call_type Medical Incident</td>\n",
       "      <td>call_date 2022-01-28T00:00:00.000</td>\n",
       "      <td>watch_date 2022-01-28T00:00:00.000</td>\n",
       "      <td>received_dttm 2022-01-28T23:28:12.000</td>\n",
       "      <td>entry_dttm 2022-01-28T23:28:46.000</td>\n",
       "      <td>dispatch_dttm 2022-01-28T23:29:21.000</td>\n",
       "      <td>response_dttm 2022-01-28T23:30:11.000</td>\n",
       "      <td>...</td>\n",
       "      <td>number_of_alarms 1</td>\n",
       "      <td>unit_type MEDIC</td>\n",
       "      <td>unit_sequence_in_call_dispatch 2</td>\n",
       "      <td>fire_prevention_district 4</td>\n",
       "      <td>supervisor_district 6</td>\n",
       "      <td>neighborhoods_analysis_boundaries Tenderloin</td>\n",
       "      <td>rowid 220283458-83</td>\n",
       "      <td>case_location {'type': 'Point', 'coordinates':...</td>\n",
       "      <td>transport_dttm 2022-01-28T23:49:44.000</td>\n",
       "      <td>hospital_dttm 2022-01-28T23:54:49.000</td>\n",
       "    </tr>\n",
       "    <tr>\n",
       "      <th>32</th>\n",
       "      <td>call_number 220283056</td>\n",
       "      <td>unit_id 89</td>\n",
       "      <td>incident_number 22013431</td>\n",
       "      <td>call_type Medical Incident</td>\n",
       "      <td>call_date 2022-01-28T00:00:00.000</td>\n",
       "      <td>watch_date 2022-01-28T00:00:00.000</td>\n",
       "      <td>received_dttm 2022-01-28T20:39:59.000</td>\n",
       "      <td>entry_dttm 2022-01-28T20:42:24.000</td>\n",
       "      <td>dispatch_dttm 2022-01-28T20:42:50.000</td>\n",
       "      <td>response_dttm 2022-01-28T20:42:56.000</td>\n",
       "      <td>...</td>\n",
       "      <td>number_of_alarms 1</td>\n",
       "      <td>unit_type MEDIC</td>\n",
       "      <td>unit_sequence_in_call_dispatch 1</td>\n",
       "      <td>fire_prevention_district 7</td>\n",
       "      <td>supervisor_district 1</td>\n",
       "      <td>neighborhoods_analysis_boundaries Golden Gate ...</td>\n",
       "      <td>rowid 220283056-89</td>\n",
       "      <td>case_location {'type': 'Point', 'coordinates':...</td>\n",
       "      <td>transport_dttm 2022-01-28T20:57:35.000</td>\n",
       "      <td>hospital_dttm 2022-01-28T21:01:57.000</td>\n",
       "    </tr>\n",
       "    <tr>\n",
       "      <th>37</th>\n",
       "      <td>call_number 220281459</td>\n",
       "      <td>unit_id 78</td>\n",
       "      <td>incident_number 22013231</td>\n",
       "      <td>call_type Medical Incident</td>\n",
       "      <td>call_date 2022-01-28T00:00:00.000</td>\n",
       "      <td>watch_date 2022-01-28T00:00:00.000</td>\n",
       "      <td>received_dttm 2022-01-28T12:31:23.000</td>\n",
       "      <td>entry_dttm 2022-01-28T12:32:19.000</td>\n",
       "      <td>dispatch_dttm 2022-01-28T12:36:48.000</td>\n",
       "      <td>response_dttm 2022-01-28T12:36:59.000</td>\n",
       "      <td>...</td>\n",
       "      <td>number_of_alarms 1</td>\n",
       "      <td>unit_type MEDIC</td>\n",
       "      <td>unit_sequence_in_call_dispatch 3</td>\n",
       "      <td>fire_prevention_district 1</td>\n",
       "      <td>supervisor_district 3</td>\n",
       "      <td>neighborhoods_analysis_boundaries Chinatown</td>\n",
       "      <td>rowid 220281459-78</td>\n",
       "      <td>case_location {'type': 'Point', 'coordinates':...</td>\n",
       "      <td>transport_dttm 2022-01-28T13:13:53.000</td>\n",
       "      <td>hospital_dttm 2022-01-28T13:34:44.000</td>\n",
       "    </tr>\n",
       "  </tbody>\n",
       "</table>\n",
       "<p>5 rows × 34 columns</p>\n",
       "</div>"
      ],
      "text/plain": [
       "              call_number     unit_id           incident_number  \\\n",
       "11  call_number 220280171  unit_id 56  incident_number 22013069   \n",
       "17  call_number 220282987  unit_id 53  incident_number 22013418   \n",
       "23  call_number 220283458  unit_id 83  incident_number 22013485   \n",
       "32  call_number 220283056  unit_id 89  incident_number 22013431   \n",
       "37  call_number 220281459  unit_id 78  incident_number 22013231   \n",
       "\n",
       "                     call_type                          call_date  \\\n",
       "11  call_type Medical Incident  call_date 2022-01-28T00:00:00.000   \n",
       "17  call_type Medical Incident  call_date 2022-01-28T00:00:00.000   \n",
       "23  call_type Medical Incident  call_date 2022-01-28T00:00:00.000   \n",
       "32  call_type Medical Incident  call_date 2022-01-28T00:00:00.000   \n",
       "37  call_type Medical Incident  call_date 2022-01-28T00:00:00.000   \n",
       "\n",
       "                            watch_date                          received_dttm  \\\n",
       "11  watch_date 2022-01-27T00:00:00.000  received_dttm 2022-01-28T02:42:34.000   \n",
       "17  watch_date 2022-01-28T00:00:00.000  received_dttm 2022-01-28T20:13:58.000   \n",
       "23  watch_date 2022-01-28T00:00:00.000  received_dttm 2022-01-28T23:28:12.000   \n",
       "32  watch_date 2022-01-28T00:00:00.000  received_dttm 2022-01-28T20:39:59.000   \n",
       "37  watch_date 2022-01-28T00:00:00.000  received_dttm 2022-01-28T12:31:23.000   \n",
       "\n",
       "                            entry_dttm                          dispatch_dttm  \\\n",
       "11  entry_dttm 2022-01-28T02:43:27.000  dispatch_dttm 2022-01-28T02:43:40.000   \n",
       "17  entry_dttm 2022-01-28T20:16:01.000  dispatch_dttm 2022-01-28T20:16:43.000   \n",
       "23  entry_dttm 2022-01-28T23:28:46.000  dispatch_dttm 2022-01-28T23:29:21.000   \n",
       "32  entry_dttm 2022-01-28T20:42:24.000  dispatch_dttm 2022-01-28T20:42:50.000   \n",
       "37  entry_dttm 2022-01-28T12:32:19.000  dispatch_dttm 2022-01-28T12:36:48.000   \n",
       "\n",
       "                            response_dttm  ...    number_of_alarms  \\\n",
       "11  response_dttm 2022-01-28T02:43:46.000  ...  number_of_alarms 1   \n",
       "17  response_dttm 2022-01-28T20:16:47.000  ...  number_of_alarms 1   \n",
       "23  response_dttm 2022-01-28T23:30:11.000  ...  number_of_alarms 1   \n",
       "32  response_dttm 2022-01-28T20:42:56.000  ...  number_of_alarms 1   \n",
       "37  response_dttm 2022-01-28T12:36:59.000  ...  number_of_alarms 1   \n",
       "\n",
       "          unit_type    unit_sequence_in_call_dispatch  \\\n",
       "11  unit_type MEDIC  unit_sequence_in_call_dispatch 2   \n",
       "17  unit_type MEDIC  unit_sequence_in_call_dispatch 1   \n",
       "23  unit_type MEDIC  unit_sequence_in_call_dispatch 2   \n",
       "32  unit_type MEDIC  unit_sequence_in_call_dispatch 1   \n",
       "37  unit_type MEDIC  unit_sequence_in_call_dispatch 3   \n",
       "\n",
       "      fire_prevention_district    supervisor_district  \\\n",
       "11  fire_prevention_district 4  supervisor_district 2   \n",
       "17  fire_prevention_district 1  supervisor_district 3   \n",
       "23  fire_prevention_district 4  supervisor_district 6   \n",
       "32  fire_prevention_district 7  supervisor_district 1   \n",
       "37  fire_prevention_district 1  supervisor_district 3   \n",
       "\n",
       "                    neighborhoods_analysis_boundaries               rowid  \\\n",
       "11           neighborhoods_analysis_boundaries Marina  rowid 220280171-56   \n",
       "17        neighborhoods_analysis_boundaries Chinatown  rowid 220282987-53   \n",
       "23       neighborhoods_analysis_boundaries Tenderloin  rowid 220283458-83   \n",
       "32  neighborhoods_analysis_boundaries Golden Gate ...  rowid 220283056-89   \n",
       "37        neighborhoods_analysis_boundaries Chinatown  rowid 220281459-78   \n",
       "\n",
       "                                        case_location  \\\n",
       "11  case_location {'type': 'Point', 'coordinates':...   \n",
       "17  case_location {'type': 'Point', 'coordinates':...   \n",
       "23  case_location {'type': 'Point', 'coordinates':...   \n",
       "32  case_location {'type': 'Point', 'coordinates':...   \n",
       "37  case_location {'type': 'Point', 'coordinates':...   \n",
       "\n",
       "                            transport_dttm  \\\n",
       "11  transport_dttm 2022-01-28T03:26:14.000   \n",
       "17  transport_dttm 2022-01-28T21:01:56.000   \n",
       "23  transport_dttm 2022-01-28T23:49:44.000   \n",
       "32  transport_dttm 2022-01-28T20:57:35.000   \n",
       "37  transport_dttm 2022-01-28T13:13:53.000   \n",
       "\n",
       "                            hospital_dttm  \n",
       "11  hospital_dttm 2022-01-28T03:42:33.000  \n",
       "17  hospital_dttm 2022-01-28T21:09:30.000  \n",
       "23  hospital_dttm 2022-01-28T23:54:49.000  \n",
       "32  hospital_dttm 2022-01-28T21:01:57.000  \n",
       "37  hospital_dttm 2022-01-28T13:34:44.000  \n",
       "\n",
       "[5 rows x 34 columns]"
      ]
     },
     "execution_count": 27,
     "metadata": {},
     "output_type": "execute_result"
    }
   ],
   "source": [
    "from numpy.core.defchararray import add\n",
    "\n",
    "data = cfs_data.to_numpy().astype(str)\n",
    "col_heads = cfs_data.columns.to_numpy().astype(str)\n",
    "\n",
    "text_df = pd.DataFrame(add(add(col_heads, ' '), data), cfs_data.index, cfs_data.columns)\n",
    "text_df.head()"
   ]
  },
  {
   "cell_type": "code",
   "execution_count": 28,
   "id": "4ae4e2c0",
   "metadata": {},
   "outputs": [],
   "source": [
    "text_df['sentence'] = text_df.apply('|'.join, axis=1)\n",
    "qa_text=list(text_df['sentence'])"
   ]
  },
  {
   "cell_type": "code",
   "execution_count": 30,
   "id": "cee63881",
   "metadata": {},
   "outputs": [
    {
     "name": "stdout",
     "output_type": "stream",
     "text": [
      "call_number 220280171|unit_id 56|incident_number 22013069|call_type Medical Incident|call_date 2022-01-28T00:00:00.000|watch_date 2022-01-27T00:00:00.000|received_dttm 2022-01-28T02:42:34.000|entry_dttm 2022-01-28T02:43:27.000|dispatch_dttm 2022-01-28T02:43:40.000|response_dttm 2022-01-28T02:43:46.000|on_scene_dttm 2022-01-28T02:49:15.000|call_final_disposition Code 2 Transport|available_dttm 2022-01-28T04:21:02.000|address 1900 Block of VALLEJO ST|city San Francisco|zipcode_of_incident 94123.0|battalion B04|station_area 38.0|box 3334.0|original_priority 3|priority 3|final_priority 3|als_unit True|call_type_group Potentially Life-Threatening|number_of_alarms 1|unit_type MEDIC|unit_sequence_in_call_dispatch 2|fire_prevention_district 4|supervisor_district 2|neighborhoods_analysis_boundaries Marina|rowid 220280171-56|case_location {'type': 'Point', 'coordinates': [-122.42937128732368, 37.796012439406866]}|transport_dttm 2022-01-28T03:26:14.000|hospital_dttm 2022-01-28T03:42:33.000\n"
     ]
    }
   ],
   "source": [
    "context=qa_text[0]\n",
    "print(context)"
   ]
  },
  {
   "cell_type": "code",
   "execution_count": 31,
   "id": "7a05fa01",
   "metadata": {},
   "outputs": [],
   "source": [
    "question = \"What is the unit type?\""
   ]
  },
  {
   "cell_type": "code",
   "execution_count": 34,
   "id": "883a7369",
   "metadata": {},
   "outputs": [
    {
     "name": "stderr",
     "output_type": "stream",
     "text": [
      "/Users/hannahcatri/anaconda3/lib/python3.8/site-packages/numpy/core/_asarray.py:102: VisibleDeprecationWarning: Creating an ndarray from ragged nested sequences (which is a list-or-tuple of lists-or-tuples-or ndarrays with different lengths or shapes) is deprecated. If you meant to do this, you must specify 'dtype=object' when creating the ndarray.\n",
      "  return array(a, dtype, copy=False, order=order)\n"
     ]
    },
    {
     "name": "stdout",
     "output_type": "stream",
     "text": [
      "Answer: MEDIC\n",
      "Score: 0.9621998071670532\n"
     ]
    }
   ],
   "source": [
    "result = qa(question=question, context=context)\n",
    "print(\"Answer:\", result['answer'])\n",
    "print(\"Score:\", result['score'])"
   ]
  },
  {
   "cell_type": "code",
   "execution_count": 35,
   "id": "39365f8b",
   "metadata": {},
   "outputs": [
    {
     "name": "stdout",
     "output_type": "stream",
     "text": [
      "Answer: 22013069\n",
      "Score: 0.0340922474861145\n"
     ]
    }
   ],
   "source": [
    "question = \"Where is the incident?\"\n",
    "result = qa(question=question, context=context)\n",
    "print(\"Answer:\", result['answer'])\n",
    "print(\"Score:\", result['score'])"
   ]
  },
  {
   "cell_type": "code",
   "execution_count": 37,
   "id": "c03fbed5",
   "metadata": {},
   "outputs": [
    {
     "name": "stdout",
     "output_type": "stream",
     "text": [
      "Answer: 1900 Block of VALLEJO ST\n",
      "Score: 0.6085211038589478\n"
     ]
    }
   ],
   "source": [
    "question = \"What is the address?\"\n",
    "result = qa(question=question, context=context)\n",
    "print(\"Answer:\", result['answer'])\n",
    "print(\"Score:\", result['score'])"
   ]
  },
  {
   "cell_type": "code",
   "execution_count": 38,
   "id": "5101a327",
   "metadata": {},
   "outputs": [
    {
     "name": "stdout",
     "output_type": "stream",
     "text": [
      "Answer: final_priority 3\n",
      "Score: 0.03409433364868164\n"
     ]
    }
   ],
   "source": [
    "question = \"Where is it?\"\n",
    "result = qa(question=question, context=context)\n",
    "print(\"Answer:\", result['answer'])\n",
    "print(\"Score:\", result['score'])"
   ]
  },
  {
   "cell_type": "code",
   "execution_count": 39,
   "id": "39a4a03d",
   "metadata": {},
   "outputs": [
    {
     "name": "stdout",
     "output_type": "stream",
     "text": [
      "Answer: True\n",
      "Score: 0.907264232635498\n"
     ]
    }
   ],
   "source": [
    "question = \"What unit?\"\n",
    "result = qa(question=question, context=context)\n",
    "print(\"Answer:\", result['answer'])\n",
    "print(\"Score:\", result['score'])"
   ]
  },
  {
   "cell_type": "code",
   "execution_count": 40,
   "id": "42890724",
   "metadata": {},
   "outputs": [
    {
     "name": "stdout",
     "output_type": "stream",
     "text": [
      "Answer: 2022\n",
      "Score: 0.23034462332725525\n"
     ]
    }
   ],
   "source": [
    "question = \"When did they arrive on scene?\"\n",
    "result = qa(question=question, context=context)\n",
    "print(\"Answer:\", result['answer'])\n",
    "print(\"Score:\", result['score'])"
   ]
  },
  {
   "cell_type": "code",
   "execution_count": 42,
   "id": "a580a793",
   "metadata": {},
   "outputs": [
    {
     "name": "stdout",
     "output_type": "stream",
     "text": [
      "Answer: Marina\n",
      "Score: 0.8669592142105103\n"
     ]
    }
   ],
   "source": [
    "question = \"What neighbourood?\"\n",
    "result = qa(question=question, context=context)\n",
    "print(\"Answer:\", result['answer'])\n",
    "print(\"Score:\", result['score'])"
   ]
  },
  {
   "cell_type": "code",
   "execution_count": null,
   "id": "5571b347",
   "metadata": {},
   "outputs": [],
   "source": []
  }
 ],
 "metadata": {
  "kernelspec": {
   "display_name": "Python 3",
   "language": "python",
   "name": "python3"
  },
  "language_info": {
   "codemirror_mode": {
    "name": "ipython",
    "version": 3
   },
   "file_extension": ".py",
   "mimetype": "text/x-python",
   "name": "python",
   "nbconvert_exporter": "python",
   "pygments_lexer": "ipython3",
   "version": "3.8.8"
  }
 },
 "nbformat": 4,
 "nbformat_minor": 5
}
