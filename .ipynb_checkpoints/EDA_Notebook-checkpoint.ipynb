{
 "cells": [
  {
   "cell_type": "markdown",
   "metadata": {},
   "source": [
    "# EDA for Prototype's Fire Data\n",
    "#### Hannah Catri 217569841\n",
    "\n",
    "\n"
   ]
  },
  {
   "cell_type": "code",
   "execution_count": 60,
   "metadata": {},
   "outputs": [],
   "source": [
    "import pandas as pd\n",
    "from sodapy import Socrata\n",
    "import datetime\n",
    "from pandas_profiling import ProfileReport\n",
    "import requests\n",
    "import json"
   ]
  },
  {
   "cell_type": "markdown",
   "metadata": {},
   "source": [
    "## Emergency Services Data Stream"
   ]
  },
  {
   "cell_type": "markdown",
   "metadata": {},
   "source": [
    "#### Fire Department Calls for Service"
   ]
  },
  {
   "cell_type": "code",
   "execution_count": 2,
   "metadata": {},
   "outputs": [
    {
     "name": "stdout",
     "output_type": "stream",
     "text": [
      "The number of incidents in the set is 5642213\n"
     ]
    }
   ],
   "source": [
    "# Get the number of rows in the dataset\n",
    "# Save as a variable in case paging method of data retireval is needed\n",
    "num=pd.read_json(\"https://data.sfgov.org/resource/RowID.json?$select=COUNT(incident_number)\")\n",
    "maxNumber=num.iloc[0,0]\n",
    "print('The number of incidents in the set is',maxNumber)"
   ]
  },
  {
   "cell_type": "code",
   "execution_count": 10,
   "metadata": {},
   "outputs": [
    {
     "name": "stderr",
     "output_type": "stream",
     "text": [
      "WARNING:root:Requests made without an app_token will be subject to strict throttling limits.\n"
     ]
    }
   ],
   "source": [
    "%%time\n",
    "# Configure the Socrata client and create the generator that will retrieve the data\n",
    "client = Socrata(\"data.sfgov.org\", None)\n",
    "dataset_gen=client.get(\"nuek-vuh3\", limit=2000)\n",
    "# Extract the dataset, this may take a while.\n",
    "# Use shape to confirm the size matches the rows as per above maxNumber.\n",
    "fire_cfs_df = pd.DataFrame.from_records(dataset_gen)\n",
    "fire_cfs_df.shape\n",
    "fire_cfs_df.sample(5)"
   ]
  },
  {
   "cell_type": "code",
   "execution_count": 137,
   "metadata": {},
   "outputs": [
    {
     "name": "stdout",
     "output_type": "stream",
     "text": [
      "(1000, 34)\n"
     ]
    },
    {
     "data": {
      "text/html": [
       "<div>\n",
       "<style scoped>\n",
       "    .dataframe tbody tr th:only-of-type {\n",
       "        vertical-align: middle;\n",
       "    }\n",
       "\n",
       "    .dataframe tbody tr th {\n",
       "        vertical-align: top;\n",
       "    }\n",
       "\n",
       "    .dataframe thead th {\n",
       "        text-align: right;\n",
       "    }\n",
       "</style>\n",
       "<table border=\"1\" class=\"dataframe\">\n",
       "  <thead>\n",
       "    <tr style=\"text-align: right;\">\n",
       "      <th></th>\n",
       "      <th>call_number</th>\n",
       "      <th>unit_id</th>\n",
       "      <th>incident_number</th>\n",
       "      <th>call_type</th>\n",
       "      <th>call_date</th>\n",
       "      <th>watch_date</th>\n",
       "      <th>received_dttm</th>\n",
       "      <th>entry_dttm</th>\n",
       "      <th>dispatch_dttm</th>\n",
       "      <th>response_dttm</th>\n",
       "      <th>...</th>\n",
       "      <th>number_of_alarms</th>\n",
       "      <th>unit_type</th>\n",
       "      <th>unit_sequence_in_call_dispatch</th>\n",
       "      <th>fire_prevention_district</th>\n",
       "      <th>supervisor_district</th>\n",
       "      <th>neighborhoods_analysis_boundaries</th>\n",
       "      <th>rowid</th>\n",
       "      <th>case_location</th>\n",
       "      <th>transport_dttm</th>\n",
       "      <th>hospital_dttm</th>\n",
       "    </tr>\n",
       "  </thead>\n",
       "  <tbody>\n",
       "    <tr>\n",
       "      <th>651</th>\n",
       "      <td>212391220</td>\n",
       "      <td>E43</td>\n",
       "      <td>21102654</td>\n",
       "      <td>Alarms</td>\n",
       "      <td>2021-08-27T00:00:00.000</td>\n",
       "      <td>2021-08-27T00:00:00.000</td>\n",
       "      <td>2021-08-27T10:34:18.000</td>\n",
       "      <td>2021-08-27T10:36:15.000</td>\n",
       "      <td>2021-08-27T10:36:21.000</td>\n",
       "      <td>2021-08-27T10:37:54.000</td>\n",
       "      <td>...</td>\n",
       "      <td>1</td>\n",
       "      <td>ENGINE</td>\n",
       "      <td>2</td>\n",
       "      <td>9</td>\n",
       "      <td>11</td>\n",
       "      <td>McLaren Park</td>\n",
       "      <td>212391220-E43</td>\n",
       "      <td>{'type': 'Point', 'coordinates': [-122.4255884...</td>\n",
       "      <td>NaN</td>\n",
       "      <td>NaN</td>\n",
       "    </tr>\n",
       "    <tr>\n",
       "      <th>790</th>\n",
       "      <td>212390556</td>\n",
       "      <td>88</td>\n",
       "      <td>21102578</td>\n",
       "      <td>Medical Incident</td>\n",
       "      <td>2021-08-27T00:00:00.000</td>\n",
       "      <td>2021-08-26T00:00:00.000</td>\n",
       "      <td>2021-08-27T07:07:02.000</td>\n",
       "      <td>2021-08-27T07:09:27.000</td>\n",
       "      <td>2021-08-27T07:09:48.000</td>\n",
       "      <td>2021-08-27T07:09:52.000</td>\n",
       "      <td>...</td>\n",
       "      <td>1</td>\n",
       "      <td>MEDIC</td>\n",
       "      <td>1</td>\n",
       "      <td>9</td>\n",
       "      <td>10</td>\n",
       "      <td>Visitacion Valley</td>\n",
       "      <td>212390556-88</td>\n",
       "      <td>{'type': 'Point', 'coordinates': [-122.4138121...</td>\n",
       "      <td>2021-08-27T07:39:24.000</td>\n",
       "      <td>2021-08-27T08:21:08.000</td>\n",
       "    </tr>\n",
       "    <tr>\n",
       "      <th>36</th>\n",
       "      <td>212394165</td>\n",
       "      <td>67</td>\n",
       "      <td>21102983</td>\n",
       "      <td>Medical Incident</td>\n",
       "      <td>2021-08-27T00:00:00.000</td>\n",
       "      <td>2021-08-27T00:00:00.000</td>\n",
       "      <td>2021-08-27T23:57:36.000</td>\n",
       "      <td>2021-08-27T23:59:39.000</td>\n",
       "      <td>2021-08-28T00:08:51.000</td>\n",
       "      <td>2021-08-28T00:08:54.000</td>\n",
       "      <td>...</td>\n",
       "      <td>1</td>\n",
       "      <td>MEDIC</td>\n",
       "      <td>2</td>\n",
       "      <td>2</td>\n",
       "      <td>6</td>\n",
       "      <td>Mission</td>\n",
       "      <td>212394165-67</td>\n",
       "      <td>{'type': 'Point', 'coordinates': [-122.4221882...</td>\n",
       "      <td>2021-08-28T00:35:35.000</td>\n",
       "      <td>2021-08-28T00:35:38.000</td>\n",
       "    </tr>\n",
       "    <tr>\n",
       "      <th>174</th>\n",
       "      <td>212393532</td>\n",
       "      <td>52</td>\n",
       "      <td>21102913</td>\n",
       "      <td>Medical Incident</td>\n",
       "      <td>2021-08-27T00:00:00.000</td>\n",
       "      <td>2021-08-27T00:00:00.000</td>\n",
       "      <td>2021-08-27T20:39:44.000</td>\n",
       "      <td>2021-08-27T20:41:55.000</td>\n",
       "      <td>2021-08-27T20:43:09.000</td>\n",
       "      <td>2021-08-27T20:43:09.000</td>\n",
       "      <td>...</td>\n",
       "      <td>1</td>\n",
       "      <td>MEDIC</td>\n",
       "      <td>1</td>\n",
       "      <td>3</td>\n",
       "      <td>6</td>\n",
       "      <td>South of Market</td>\n",
       "      <td>212393532-52</td>\n",
       "      <td>{'type': 'Point', 'coordinates': [-122.4084837...</td>\n",
       "      <td>NaN</td>\n",
       "      <td>NaN</td>\n",
       "    </tr>\n",
       "    <tr>\n",
       "      <th>855</th>\n",
       "      <td>212390222</td>\n",
       "      <td>E23</td>\n",
       "      <td>21102537</td>\n",
       "      <td>Alarms</td>\n",
       "      <td>2021-08-27T00:00:00.000</td>\n",
       "      <td>2021-08-26T00:00:00.000</td>\n",
       "      <td>2021-08-27T02:34:29.000</td>\n",
       "      <td>2021-08-27T02:38:04.000</td>\n",
       "      <td>2021-08-27T02:38:30.000</td>\n",
       "      <td>2021-08-27T02:39:40.000</td>\n",
       "      <td>...</td>\n",
       "      <td>1</td>\n",
       "      <td>ENGINE</td>\n",
       "      <td>3</td>\n",
       "      <td>8.0</td>\n",
       "      <td>4</td>\n",
       "      <td>Sunset/Parkside</td>\n",
       "      <td>212390222-E23</td>\n",
       "      <td>{'type': 'Point', 'coordinates': [-122.5092051...</td>\n",
       "      <td>NaN</td>\n",
       "      <td>NaN</td>\n",
       "    </tr>\n",
       "  </tbody>\n",
       "</table>\n",
       "<p>5 rows × 34 columns</p>\n",
       "</div>"
      ],
      "text/plain": [
       "     call_number unit_id  incident_number         call_type  \\\n",
       "651    212391220     E43         21102654            Alarms   \n",
       "790    212390556      88         21102578  Medical Incident   \n",
       "36     212394165      67         21102983  Medical Incident   \n",
       "174    212393532      52         21102913  Medical Incident   \n",
       "855    212390222     E23         21102537            Alarms   \n",
       "\n",
       "                   call_date               watch_date  \\\n",
       "651  2021-08-27T00:00:00.000  2021-08-27T00:00:00.000   \n",
       "790  2021-08-27T00:00:00.000  2021-08-26T00:00:00.000   \n",
       "36   2021-08-27T00:00:00.000  2021-08-27T00:00:00.000   \n",
       "174  2021-08-27T00:00:00.000  2021-08-27T00:00:00.000   \n",
       "855  2021-08-27T00:00:00.000  2021-08-26T00:00:00.000   \n",
       "\n",
       "               received_dttm               entry_dttm  \\\n",
       "651  2021-08-27T10:34:18.000  2021-08-27T10:36:15.000   \n",
       "790  2021-08-27T07:07:02.000  2021-08-27T07:09:27.000   \n",
       "36   2021-08-27T23:57:36.000  2021-08-27T23:59:39.000   \n",
       "174  2021-08-27T20:39:44.000  2021-08-27T20:41:55.000   \n",
       "855  2021-08-27T02:34:29.000  2021-08-27T02:38:04.000   \n",
       "\n",
       "               dispatch_dttm            response_dttm  ... number_of_alarms  \\\n",
       "651  2021-08-27T10:36:21.000  2021-08-27T10:37:54.000  ...                1   \n",
       "790  2021-08-27T07:09:48.000  2021-08-27T07:09:52.000  ...                1   \n",
       "36   2021-08-28T00:08:51.000  2021-08-28T00:08:54.000  ...                1   \n",
       "174  2021-08-27T20:43:09.000  2021-08-27T20:43:09.000  ...                1   \n",
       "855  2021-08-27T02:38:30.000  2021-08-27T02:39:40.000  ...                1   \n",
       "\n",
       "    unit_type unit_sequence_in_call_dispatch fire_prevention_district  \\\n",
       "651    ENGINE                              2                        9   \n",
       "790     MEDIC                              1                        9   \n",
       "36      MEDIC                              2                        2   \n",
       "174     MEDIC                              1                        3   \n",
       "855    ENGINE                              3                      8.0   \n",
       "\n",
       "    supervisor_district  neighborhoods_analysis_boundaries          rowid  \\\n",
       "651                  11                       McLaren Park  212391220-E43   \n",
       "790                  10                  Visitacion Valley   212390556-88   \n",
       "36                    6                            Mission   212394165-67   \n",
       "174                   6                    South of Market   212393532-52   \n",
       "855                   4                    Sunset/Parkside  212390222-E23   \n",
       "\n",
       "                                         case_location  \\\n",
       "651  {'type': 'Point', 'coordinates': [-122.4255884...   \n",
       "790  {'type': 'Point', 'coordinates': [-122.4138121...   \n",
       "36   {'type': 'Point', 'coordinates': [-122.4221882...   \n",
       "174  {'type': 'Point', 'coordinates': [-122.4084837...   \n",
       "855  {'type': 'Point', 'coordinates': [-122.5092051...   \n",
       "\n",
       "              transport_dttm            hospital_dttm  \n",
       "651                      NaN                      NaN  \n",
       "790  2021-08-27T07:39:24.000  2021-08-27T08:21:08.000  \n",
       "36   2021-08-28T00:35:35.000  2021-08-28T00:35:38.000  \n",
       "174                      NaN                      NaN  \n",
       "855                      NaN                      NaN  \n",
       "\n",
       "[5 rows x 34 columns]"
      ]
     },
     "execution_count": 137,
     "metadata": {},
     "output_type": "execute_result"
    }
   ],
   "source": [
    "# set 10 day lookback window\n",
    "periodend = datetime.datetime.now().isoformat()\n",
    "periodstart = (datetime.datetime.now()- datetime.timedelta(days=7)).isoformat()\n",
    "query_str=(\"https://data.sfgov.org/resource/RowID.json?$where=call_date%20between%20%27\"+str(periodstart)+\"%27%20AND%20%27\"+str(periodend)+\"%27\")\n",
    "#print(query_str)\n",
    "data=pd.read_json(query_str)\n",
    "print(data.shape)\n",
    "data.sample(5)"
   ]
  },
  {
   "cell_type": "code",
   "execution_count": 20,
   "metadata": {},
   "outputs": [
    {
     "data": {
      "application/vnd.jupyter.widget-view+json": {
       "model_id": "57ad59200a67470f9bbc67049da5f8ac",
       "version_major": 2,
       "version_minor": 0
      },
      "text/plain": [
       "Summarize dataset:   0%|          | 0/47 [00:00<?, ?it/s]"
      ]
     },
     "metadata": {},
     "output_type": "display_data"
    },
    {
     "data": {
      "application/vnd.jupyter.widget-view+json": {
       "model_id": "a68a44566e1a470981d820e8162b3e97",
       "version_major": 2,
       "version_minor": 0
      },
      "text/plain": [
       "Generate report structure:   0%|          | 0/1 [00:00<?, ?it/s]"
      ]
     },
     "metadata": {},
     "output_type": "display_data"
    },
    {
     "data": {
      "application/vnd.jupyter.widget-view+json": {
       "model_id": "",
       "version_major": 2,
       "version_minor": 0
      },
      "text/plain": [
       "Render widgets:   0%|          | 0/1 [00:00<?, ?it/s]"
      ]
     },
     "metadata": {},
     "output_type": "display_data"
    },
    {
     "data": {
      "application/vnd.jupyter.widget-view+json": {
       "model_id": "8b7a5d74924f42f2920b8d2a87ea3a30",
       "version_major": 2,
       "version_minor": 0
      },
      "text/plain": [
       "VBox(children=(Tab(children=(Tab(children=(GridBox(children=(VBox(children=(GridspecLayout(children=(HTML(valu…"
      ]
     },
     "metadata": {},
     "output_type": "display_data"
    }
   ],
   "source": [
    "profile = ProfileReport(data, title=\"Fire Dept Calls for Service\")\n",
    "profile.to_widgets()"
   ]
  },
  {
   "cell_type": "markdown",
   "metadata": {},
   "source": [
    "## Twitter Data Stream"
   ]
  },
  {
   "cell_type": "markdown",
   "metadata": {},
   "source": [
    "#### Tweets with the word 'fire' in region"
   ]
  },
  {
   "cell_type": "code",
   "execution_count": 40,
   "metadata": {},
   "outputs": [],
   "source": [
    "bearer_token = 'AAAAAAAAAAAAAAAAAAAAAMdDTQEAAAAAfYqWjo5%2BOgmFP%2FmqGGkq74pEahs%3DNqy7E6BdRittRWu2v3DJAVXEvbDLhAejdCBccR4mQPNO70s9Sl'"
   ]
  },
  {
   "cell_type": "code",
   "execution_count": 34,
   "metadata": {},
   "outputs": [],
   "source": [
    "\n",
    "def create_headers(bearer_token):\n",
    "    headers = {\"Authorization\": \"Bearer {}\".format(bearer_token)}\n",
    "    \n",
    "    return headers"
   ]
  },
  {
   "cell_type": "code",
   "execution_count": 140,
   "metadata": {},
   "outputs": [],
   "source": [
    "def create_url(keyword,start_date, end_date, max_results = 10):\n",
    "    \n",
    "    search_url = \"https://api.twitter.com/2/tweets/search/recent\" #Change to the endpoint you want to collect data from\n",
    "\n",
    "    #change params based on the endpoint you are using\n",
    "    query_params = {'query': keyword,\n",
    "                    'start_time': start_date,\n",
    "                    'end_time': end_date,\n",
    "                    'max_results': max_results,\n",
    "                    'expansions': 'author_id,in_reply_to_user_id,geo.place_id',\n",
    "                    'tweet.fields': 'id,text,author_id,in_reply_to_user_id,geo,conversation_id,created_at,lang,public_metrics,referenced_tweets,reply_settings,source',\n",
    "                    'user.fields': 'id,name,username,created_at,description,public_metrics,verified',\n",
    "                    'place.fields': 'full_name,id,country,country_code,geo,name,place_type',\n",
    "                    'next_token': {}}\n",
    "    return (search_url, query_params)"
   ]
  },
  {
   "cell_type": "code",
   "execution_count": 121,
   "metadata": {},
   "outputs": [],
   "source": [
    "def connect_to_endpoint(url, headers, params, next_token = None):\n",
    "    params['next_token'] = next_token   #params object received from create_url function\n",
    "    response = requests.request(\"GET\", url, headers = headers, params = params)\n",
    "    print(\"Endpoint Response Code: \" + str(response.status_code))\n",
    "    if response.status_code != 200:\n",
    "        raise Exception(response.status_code, response.text)\n",
    "    return response.json()"
   ]
  },
  {
   "cell_type": "code",
   "execution_count": 167,
   "metadata": {},
   "outputs": [],
   "source": [
    "periodend = datetime.datetime.now().isoformat()\n",
    "periodstart = (datetime.datetime.now()- datetime.timedelta(days=2)).isoformat()\n",
    "#Inputs for the request\n",
    "headers = create_headers(bearer_token)\n",
    "keyword = \"caldor fire lang:en\"\n",
    "#place = \"San Francisco\"\n",
    "start_time = periodstart[:-2]+'Z'\n",
    "end_time = periodend[:-2]+'Z'\n",
    "max_results = 100"
   ]
  },
  {
   "cell_type": "code",
   "execution_count": 168,
   "metadata": {},
   "outputs": [
    {
     "name": "stdout",
     "output_type": "stream",
     "text": [
      "Endpoint Response Code: 200\n"
     ]
    }
   ],
   "source": [
    "url = create_url(keyword, start_time,end_time, max_results)\n",
    "json_response = connect_to_endpoint(url[0], headers, url[1])"
   ]
  },
  {
   "cell_type": "code",
   "execution_count": 169,
   "metadata": {},
   "outputs": [
    {
     "data": {
      "text/html": [
       "<div>\n",
       "<style scoped>\n",
       "    .dataframe tbody tr th:only-of-type {\n",
       "        vertical-align: middle;\n",
       "    }\n",
       "\n",
       "    .dataframe tbody tr th {\n",
       "        vertical-align: top;\n",
       "    }\n",
       "\n",
       "    .dataframe thead th {\n",
       "        text-align: right;\n",
       "    }\n",
       "</style>\n",
       "<table border=\"1\" class=\"dataframe\">\n",
       "  <thead>\n",
       "    <tr style=\"text-align: right;\">\n",
       "      <th></th>\n",
       "      <th>author_id</th>\n",
       "      <th>conversation_id</th>\n",
       "      <th>text</th>\n",
       "      <th>lang</th>\n",
       "      <th>reply_settings</th>\n",
       "      <th>id</th>\n",
       "      <th>referenced_tweets</th>\n",
       "      <th>source</th>\n",
       "      <th>created_at</th>\n",
       "      <th>public_metrics.retweet_count</th>\n",
       "      <th>public_metrics.reply_count</th>\n",
       "      <th>public_metrics.like_count</th>\n",
       "      <th>public_metrics.quote_count</th>\n",
       "      <th>in_reply_to_user_id</th>\n",
       "    </tr>\n",
       "  </thead>\n",
       "  <tbody>\n",
       "    <tr>\n",
       "      <th>0</th>\n",
       "      <td>953117019406262272</td>\n",
       "      <td>1433473516175826945</td>\n",
       "      <td>RT @gregrthomas: Lake Tahoe's biggest ski reso...</td>\n",
       "      <td>en</td>\n",
       "      <td>everyone</td>\n",
       "      <td>1433473516175826945</td>\n",
       "      <td>[{'type': 'retweeted', 'id': '1433165829185556...</td>\n",
       "      <td>Twitter for iPhone</td>\n",
       "      <td>2021-09-02T16:54:53.000Z</td>\n",
       "      <td>143</td>\n",
       "      <td>0</td>\n",
       "      <td>0</td>\n",
       "      <td>0</td>\n",
       "      <td>NaN</td>\n",
       "    </tr>\n",
       "    <tr>\n",
       "      <th>1</th>\n",
       "      <td>1243522048183488512</td>\n",
       "      <td>1433473494738784273</td>\n",
       "      <td>RT @MaryHeglar: Hurricane Ida and Caldor Fire ...</td>\n",
       "      <td>en</td>\n",
       "      <td>everyone</td>\n",
       "      <td>1433473494738784273</td>\n",
       "      <td>[{'type': 'retweeted', 'id': '1433333706467561...</td>\n",
       "      <td>Twitter for iPhone</td>\n",
       "      <td>2021-09-02T16:54:48.000Z</td>\n",
       "      <td>759</td>\n",
       "      <td>0</td>\n",
       "      <td>0</td>\n",
       "      <td>0</td>\n",
       "      <td>NaN</td>\n",
       "    </tr>\n",
       "    <tr>\n",
       "      <th>2</th>\n",
       "      <td>47699335</td>\n",
       "      <td>1433473442586632225</td>\n",
       "      <td>Caldor fire is now the 15th largest in Califor...</td>\n",
       "      <td>en</td>\n",
       "      <td>everyone</td>\n",
       "      <td>1433473442586632225</td>\n",
       "      <td>NaN</td>\n",
       "      <td>Twitter Web App</td>\n",
       "      <td>2021-09-02T16:54:36.000Z</td>\n",
       "      <td>1</td>\n",
       "      <td>0</td>\n",
       "      <td>5</td>\n",
       "      <td>0</td>\n",
       "      <td>NaN</td>\n",
       "    </tr>\n",
       "    <tr>\n",
       "      <th>3</th>\n",
       "      <td>2902401494</td>\n",
       "      <td>1433473417269813339</td>\n",
       "      <td>RT @KevinKileyCA: My thoughts are with our fir...</td>\n",
       "      <td>en</td>\n",
       "      <td>everyone</td>\n",
       "      <td>1433473417269813339</td>\n",
       "      <td>[{'type': 'retweeted', 'id': '1433257418197139...</td>\n",
       "      <td>Twitter for Android</td>\n",
       "      <td>2021-09-02T16:54:29.000Z</td>\n",
       "      <td>533</td>\n",
       "      <td>0</td>\n",
       "      <td>0</td>\n",
       "      <td>0</td>\n",
       "      <td>NaN</td>\n",
       "    </tr>\n",
       "    <tr>\n",
       "      <th>4</th>\n",
       "      <td>16935915</td>\n",
       "      <td>1433473327998255108</td>\n",
       "      <td>#caldorfire article mentioning Strawberry on H...</td>\n",
       "      <td>en</td>\n",
       "      <td>everyone</td>\n",
       "      <td>1433473327998255108</td>\n",
       "      <td>NaN</td>\n",
       "      <td>Twitter Web App</td>\n",
       "      <td>2021-09-02T16:54:08.000Z</td>\n",
       "      <td>0</td>\n",
       "      <td>0</td>\n",
       "      <td>2</td>\n",
       "      <td>0</td>\n",
       "      <td>NaN</td>\n",
       "    </tr>\n",
       "  </tbody>\n",
       "</table>\n",
       "</div>"
      ],
      "text/plain": [
       "             author_id      conversation_id  \\\n",
       "0   953117019406262272  1433473516175826945   \n",
       "1  1243522048183488512  1433473494738784273   \n",
       "2             47699335  1433473442586632225   \n",
       "3           2902401494  1433473417269813339   \n",
       "4             16935915  1433473327998255108   \n",
       "\n",
       "                                                text lang reply_settings  \\\n",
       "0  RT @gregrthomas: Lake Tahoe's biggest ski reso...   en       everyone   \n",
       "1  RT @MaryHeglar: Hurricane Ida and Caldor Fire ...   en       everyone   \n",
       "2  Caldor fire is now the 15th largest in Califor...   en       everyone   \n",
       "3  RT @KevinKileyCA: My thoughts are with our fir...   en       everyone   \n",
       "4  #caldorfire article mentioning Strawberry on H...   en       everyone   \n",
       "\n",
       "                    id                                  referenced_tweets  \\\n",
       "0  1433473516175826945  [{'type': 'retweeted', 'id': '1433165829185556...   \n",
       "1  1433473494738784273  [{'type': 'retweeted', 'id': '1433333706467561...   \n",
       "2  1433473442586632225                                                NaN   \n",
       "3  1433473417269813339  [{'type': 'retweeted', 'id': '1433257418197139...   \n",
       "4  1433473327998255108                                                NaN   \n",
       "\n",
       "                source                created_at  \\\n",
       "0   Twitter for iPhone  2021-09-02T16:54:53.000Z   \n",
       "1   Twitter for iPhone  2021-09-02T16:54:48.000Z   \n",
       "2      Twitter Web App  2021-09-02T16:54:36.000Z   \n",
       "3  Twitter for Android  2021-09-02T16:54:29.000Z   \n",
       "4      Twitter Web App  2021-09-02T16:54:08.000Z   \n",
       "\n",
       "   public_metrics.retweet_count  public_metrics.reply_count  \\\n",
       "0                           143                           0   \n",
       "1                           759                           0   \n",
       "2                             1                           0   \n",
       "3                           533                           0   \n",
       "4                             0                           0   \n",
       "\n",
       "   public_metrics.like_count  public_metrics.quote_count in_reply_to_user_id  \n",
       "0                          0                           0                 NaN  \n",
       "1                          0                           0                 NaN  \n",
       "2                          5                           0                 NaN  \n",
       "3                          0                           0                 NaN  \n",
       "4                          2                           0                 NaN  "
      ]
     },
     "execution_count": 169,
     "metadata": {},
     "output_type": "execute_result"
    }
   ],
   "source": [
    "tweets=pd.json_normalize(json_response['data'])\n",
    "tweets.head()"
   ]
  },
  {
   "cell_type": "code",
   "execution_count": 171,
   "metadata": {},
   "outputs": [
    {
     "data": {
      "application/vnd.jupyter.widget-view+json": {
       "model_id": "1c67682a8e124cd8b5955cf0d488d65b",
       "version_major": 2,
       "version_minor": 0
      },
      "text/plain": [
       "Summarize dataset:   0%|          | 0/27 [00:00<?, ?it/s]"
      ]
     },
     "metadata": {},
     "output_type": "display_data"
    },
    {
     "name": "stderr",
     "output_type": "stream",
     "text": [
      "2021-09-02 16:55:43,448 - INFO     - Using categorical units to plot a list of strings that are all parsable as floats or dates. If these strings should be plotted as numbers, cast to the appropriate data type before plotting.\n",
      "2021-09-02 16:55:43,449 - INFO     - Using categorical units to plot a list of strings that are all parsable as floats or dates. If these strings should be plotted as numbers, cast to the appropriate data type before plotting.\n",
      "2021-09-02 16:55:43,451 - INFO     - Using categorical units to plot a list of strings that are all parsable as floats or dates. If these strings should be plotted as numbers, cast to the appropriate data type before plotting.\n",
      "2021-09-02 16:55:43,451 - INFO     - Using categorical units to plot a list of strings that are all parsable as floats or dates. If these strings should be plotted as numbers, cast to the appropriate data type before plotting.\n",
      "2021-09-02 16:55:44,600 - INFO     - Using categorical units to plot a list of strings that are all parsable as floats or dates. If these strings should be plotted as numbers, cast to the appropriate data type before plotting.\n",
      "2021-09-02 16:55:44,601 - INFO     - Using categorical units to plot a list of strings that are all parsable as floats or dates. If these strings should be plotted as numbers, cast to the appropriate data type before plotting.\n",
      "2021-09-02 16:55:44,601 - INFO     - Using categorical units to plot a list of strings that are all parsable as floats or dates. If these strings should be plotted as numbers, cast to the appropriate data type before plotting.\n",
      "2021-09-02 16:55:44,602 - INFO     - Using categorical units to plot a list of strings that are all parsable as floats or dates. If these strings should be plotted as numbers, cast to the appropriate data type before plotting.\n",
      "2021-09-02 16:55:45,841 - INFO     - Using categorical units to plot a list of strings that are all parsable as floats or dates. If these strings should be plotted as numbers, cast to the appropriate data type before plotting.\n",
      "2021-09-02 16:55:45,842 - INFO     - Using categorical units to plot a list of strings that are all parsable as floats or dates. If these strings should be plotted as numbers, cast to the appropriate data type before plotting.\n",
      "2021-09-02 16:55:45,843 - INFO     - Using categorical units to plot a list of strings that are all parsable as floats or dates. If these strings should be plotted as numbers, cast to the appropriate data type before plotting.\n",
      "2021-09-02 16:55:45,843 - INFO     - Using categorical units to plot a list of strings that are all parsable as floats or dates. If these strings should be plotted as numbers, cast to the appropriate data type before plotting.\n",
      "2021-09-02 16:55:47,054 - INFO     - Using categorical units to plot a list of strings that are all parsable as floats or dates. If these strings should be plotted as numbers, cast to the appropriate data type before plotting.\n",
      "2021-09-02 16:55:47,054 - INFO     - Using categorical units to plot a list of strings that are all parsable as floats or dates. If these strings should be plotted as numbers, cast to the appropriate data type before plotting.\n",
      "2021-09-02 16:55:47,877 - INFO     - Using categorical units to plot a list of strings that are all parsable as floats or dates. If these strings should be plotted as numbers, cast to the appropriate data type before plotting.\n",
      "2021-09-02 16:55:47,878 - INFO     - Using categorical units to plot a list of strings that are all parsable as floats or dates. If these strings should be plotted as numbers, cast to the appropriate data type before plotting.\n",
      "2021-09-02 16:55:48,699 - INFO     - Using categorical units to plot a list of strings that are all parsable as floats or dates. If these strings should be plotted as numbers, cast to the appropriate data type before plotting.\n",
      "2021-09-02 16:55:48,699 - INFO     - Using categorical units to plot a list of strings that are all parsable as floats or dates. If these strings should be plotted as numbers, cast to the appropriate data type before plotting.\n",
      "2021-09-02 16:55:48,700 - INFO     - Using categorical units to plot a list of strings that are all parsable as floats or dates. If these strings should be plotted as numbers, cast to the appropriate data type before plotting.\n",
      "2021-09-02 16:55:48,701 - INFO     - Using categorical units to plot a list of strings that are all parsable as floats or dates. If these strings should be plotted as numbers, cast to the appropriate data type before plotting.\n",
      "2021-09-02 16:55:50,018 - INFO     - Using categorical units to plot a list of strings that are all parsable as floats or dates. If these strings should be plotted as numbers, cast to the appropriate data type before plotting.\n",
      "2021-09-02 16:55:50,019 - INFO     - Using categorical units to plot a list of strings that are all parsable as floats or dates. If these strings should be plotted as numbers, cast to the appropriate data type before plotting.\n",
      "2021-09-02 16:55:50,020 - INFO     - Using categorical units to plot a list of strings that are all parsable as floats or dates. If these strings should be plotted as numbers, cast to the appropriate data type before plotting.\n",
      "2021-09-02 16:55:50,020 - INFO     - Using categorical units to plot a list of strings that are all parsable as floats or dates. If these strings should be plotted as numbers, cast to the appropriate data type before plotting.\n",
      "2021-09-02 16:55:51,412 - INFO     - Using categorical units to plot a list of strings that are all parsable as floats or dates. If these strings should be plotted as numbers, cast to the appropriate data type before plotting.\n",
      "2021-09-02 16:55:51,413 - INFO     - Using categorical units to plot a list of strings that are all parsable as floats or dates. If these strings should be plotted as numbers, cast to the appropriate data type before plotting.\n",
      "2021-09-02 16:55:51,414 - INFO     - Using categorical units to plot a list of strings that are all parsable as floats or dates. If these strings should be plotted as numbers, cast to the appropriate data type before plotting.\n",
      "2021-09-02 16:55:51,415 - INFO     - Using categorical units to plot a list of strings that are all parsable as floats or dates. If these strings should be plotted as numbers, cast to the appropriate data type before plotting.\n",
      "2021-09-02 16:55:52,811 - INFO     - Using categorical units to plot a list of strings that are all parsable as floats or dates. If these strings should be plotted as numbers, cast to the appropriate data type before plotting.\n",
      "2021-09-02 16:55:52,812 - INFO     - Using categorical units to plot a list of strings that are all parsable as floats or dates. If these strings should be plotted as numbers, cast to the appropriate data type before plotting.\n",
      "2021-09-02 16:55:53,822 - INFO     - Using categorical units to plot a list of strings that are all parsable as floats or dates. If these strings should be plotted as numbers, cast to the appropriate data type before plotting.\n",
      "2021-09-02 16:55:53,823 - INFO     - Using categorical units to plot a list of strings that are all parsable as floats or dates. If these strings should be plotted as numbers, cast to the appropriate data type before plotting.\n",
      "2021-09-02 16:55:54,825 - INFO     - Using categorical units to plot a list of strings that are all parsable as floats or dates. If these strings should be plotted as numbers, cast to the appropriate data type before plotting.\n",
      "2021-09-02 16:55:54,826 - INFO     - Using categorical units to plot a list of strings that are all parsable as floats or dates. If these strings should be plotted as numbers, cast to the appropriate data type before plotting.\n",
      "2021-09-02 16:55:54,827 - INFO     - Using categorical units to plot a list of strings that are all parsable as floats or dates. If these strings should be plotted as numbers, cast to the appropriate data type before plotting.\n",
      "2021-09-02 16:55:54,827 - INFO     - Using categorical units to plot a list of strings that are all parsable as floats or dates. If these strings should be plotted as numbers, cast to the appropriate data type before plotting.\n",
      "2021-09-02 16:55:56,137 - INFO     - Using categorical units to plot a list of strings that are all parsable as floats or dates. If these strings should be plotted as numbers, cast to the appropriate data type before plotting.\n"
     ]
    },
    {
     "name": "stderr",
     "output_type": "stream",
     "text": [
      "2021-09-02 16:55:56,138 - INFO     - Using categorical units to plot a list of strings that are all parsable as floats or dates. If these strings should be plotted as numbers, cast to the appropriate data type before plotting.\n",
      "2021-09-02 16:55:56,139 - INFO     - Using categorical units to plot a list of strings that are all parsable as floats or dates. If these strings should be plotted as numbers, cast to the appropriate data type before plotting.\n",
      "2021-09-02 16:55:56,139 - INFO     - Using categorical units to plot a list of strings that are all parsable as floats or dates. If these strings should be plotted as numbers, cast to the appropriate data type before plotting.\n",
      "2021-09-02 16:55:57,525 - INFO     - Using categorical units to plot a list of strings that are all parsable as floats or dates. If these strings should be plotted as numbers, cast to the appropriate data type before plotting.\n",
      "2021-09-02 16:55:57,526 - INFO     - Using categorical units to plot a list of strings that are all parsable as floats or dates. If these strings should be plotted as numbers, cast to the appropriate data type before plotting.\n",
      "2021-09-02 16:55:57,527 - INFO     - Using categorical units to plot a list of strings that are all parsable as floats or dates. If these strings should be plotted as numbers, cast to the appropriate data type before plotting.\n",
      "2021-09-02 16:55:57,527 - INFO     - Using categorical units to plot a list of strings that are all parsable as floats or dates. If these strings should be plotted as numbers, cast to the appropriate data type before plotting.\n",
      "2021-09-02 16:55:58,910 - INFO     - Using categorical units to plot a list of strings that are all parsable as floats or dates. If these strings should be plotted as numbers, cast to the appropriate data type before plotting.\n",
      "2021-09-02 16:55:58,911 - INFO     - Using categorical units to plot a list of strings that are all parsable as floats or dates. If these strings should be plotted as numbers, cast to the appropriate data type before plotting.\n",
      "2021-09-02 16:55:59,912 - INFO     - Using categorical units to plot a list of strings that are all parsable as floats or dates. If these strings should be plotted as numbers, cast to the appropriate data type before plotting.\n",
      "2021-09-02 16:55:59,913 - INFO     - Using categorical units to plot a list of strings that are all parsable as floats or dates. If these strings should be plotted as numbers, cast to the appropriate data type before plotting.\n",
      "2021-09-02 16:56:00,912 - INFO     - Using categorical units to plot a list of strings that are all parsable as floats or dates. If these strings should be plotted as numbers, cast to the appropriate data type before plotting.\n",
      "2021-09-02 16:56:00,913 - INFO     - Using categorical units to plot a list of strings that are all parsable as floats or dates. If these strings should be plotted as numbers, cast to the appropriate data type before plotting.\n",
      "2021-09-02 16:56:01,293 - INFO     - Using categorical units to plot a list of strings that are all parsable as floats or dates. If these strings should be plotted as numbers, cast to the appropriate data type before plotting.\n",
      "2021-09-02 16:56:01,294 - INFO     - Using categorical units to plot a list of strings that are all parsable as floats or dates. If these strings should be plotted as numbers, cast to the appropriate data type before plotting.\n",
      "2021-09-02 16:56:01,751 - INFO     - Using categorical units to plot a list of strings that are all parsable as floats or dates. If these strings should be plotted as numbers, cast to the appropriate data type before plotting.\n",
      "2021-09-02 16:56:01,752 - INFO     - Using categorical units to plot a list of strings that are all parsable as floats or dates. If these strings should be plotted as numbers, cast to the appropriate data type before plotting.\n",
      "2021-09-02 16:56:02,665 - INFO     - Using categorical units to plot a list of strings that are all parsable as floats or dates. If these strings should be plotted as numbers, cast to the appropriate data type before plotting.\n",
      "2021-09-02 16:56:02,666 - INFO     - Using categorical units to plot a list of strings that are all parsable as floats or dates. If these strings should be plotted as numbers, cast to the appropriate data type before plotting.\n",
      "2021-09-02 16:56:03,055 - INFO     - Using categorical units to plot a list of strings that are all parsable as floats or dates. If these strings should be plotted as numbers, cast to the appropriate data type before plotting.\n",
      "2021-09-02 16:56:03,056 - INFO     - Using categorical units to plot a list of strings that are all parsable as floats or dates. If these strings should be plotted as numbers, cast to the appropriate data type before plotting.\n",
      "2021-09-02 16:56:03,520 - INFO     - Using categorical units to plot a list of strings that are all parsable as floats or dates. If these strings should be plotted as numbers, cast to the appropriate data type before plotting.\n",
      "2021-09-02 16:56:03,521 - INFO     - Using categorical units to plot a list of strings that are all parsable as floats or dates. If these strings should be plotted as numbers, cast to the appropriate data type before plotting.\n"
     ]
    },
    {
     "data": {
      "application/vnd.jupyter.widget-view+json": {
       "model_id": "61ab7d88b0684d0385343f66de6244e7",
       "version_major": 2,
       "version_minor": 0
      },
      "text/plain": [
       "Generate report structure:   0%|          | 0/1 [00:00<?, ?it/s]"
      ]
     },
     "metadata": {},
     "output_type": "display_data"
    },
    {
     "data": {
      "application/vnd.jupyter.widget-view+json": {
       "model_id": "",
       "version_major": 2,
       "version_minor": 0
      },
      "text/plain": [
       "Render widgets:   0%|          | 0/1 [00:00<?, ?it/s]"
      ]
     },
     "metadata": {},
     "output_type": "display_data"
    },
    {
     "data": {
      "application/vnd.jupyter.widget-view+json": {
       "model_id": "04a0683ed4214f0a9235c997e440a3b8",
       "version_major": 2,
       "version_minor": 0
      },
      "text/plain": [
       "VBox(children=(Tab(children=(Tab(children=(GridBox(children=(VBox(children=(GridspecLayout(children=(HTML(valu…"
      ]
     },
     "metadata": {},
     "output_type": "display_data"
    }
   ],
   "source": [
    "profile = ProfileReport(tweets, title=\"Fire Related Tweets\")\n",
    "profile.to_widgets()"
   ]
  },
  {
   "cell_type": "markdown",
   "metadata": {},
   "source": [
    "## Climate Data Stream"
   ]
  },
  {
   "cell_type": "markdown",
   "metadata": {},
   "source": [
    "#### Weather API\n",
    "\n",
    "Add weather API: https://www.weather.gov/documentation/services-web-api\n"
   ]
  },
  {
   "cell_type": "code",
   "execution_count": null,
   "metadata": {},
   "outputs": [],
   "source": [
    "\n"
   ]
  }
 ],
 "metadata": {
  "kernelspec": {
   "display_name": "Python 3",
   "language": "python",
   "name": "python3"
  },
  "language_info": {
   "codemirror_mode": {
    "name": "ipython",
    "version": 3
   },
   "file_extension": ".py",
   "mimetype": "text/x-python",
   "name": "python",
   "nbconvert_exporter": "python",
   "pygments_lexer": "ipython3",
   "version": "3.8.8"
  }
 },
 "nbformat": 4,
 "nbformat_minor": 2
}
