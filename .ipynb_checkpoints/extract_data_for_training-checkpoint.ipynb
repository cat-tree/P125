{
 "cells": [
  {
   "cell_type": "markdown",
   "id": "c548c57f",
   "metadata": {},
   "source": [
    "# Extract Data in Chunks \n",
    "\n",
    "This notebook extracts open data in 30 day spans. This is to be used for question answering training."
   ]
  },
  {
   "cell_type": "code",
   "execution_count": 1,
   "id": "9d0b34ef",
   "metadata": {},
   "outputs": [],
   "source": [
    "import pandas as pd\n",
    "import datetime"
   ]
  },
  {
   "cell_type": "code",
   "execution_count": 2,
   "id": "18dec0db",
   "metadata": {},
   "outputs": [
    {
     "name": "stdout",
     "output_type": "stream",
     "text": [
      "The records are between 2000-04-12 00:00:00  and  2022-01-26 00:00:00  .\n"
     ]
    }
   ],
   "source": [
    "earliest = pd.read_json(\"https://data.sfgov.org/resource/RowID.json?$select=MIN(call_date)\")\n",
    "latest = pd.read_json(\"https://data.sfgov.org/resource/RowID.json?$select=MAX(call_date)\")\n",
    "earliest = pd.to_datetime(earliest.iloc[0,0])\n",
    "latest = pd.to_datetime(latest.iloc[0,0])\n",
    "print('The records are between',earliest,' and ',latest,' .')"
   ]
  },
  {
   "cell_type": "code",
   "execution_count": 13,
   "id": "27cda617",
   "metadata": {},
   "outputs": [],
   "source": [
    "range_date = earliest+pd.DateOffset(days=30)\n",
    "fn_start='data/sf_cfs_'\n",
    "fn_end='.csv'\n",
    "\n",
    "while range_date < latest:\n",
    "    earliest_iso=earliest.isoformat()\n",
    "    range_iso=range_date.isoformat()\n",
    "    num=pd.read_json(\"https://data.sfgov.org/resource/RowID.json?$select=COUNT(incident_number)&$where=call_date%20between%20%27\"\n",
    "                 +earliest_iso+\"%27%20AND%20%27\"+range_iso+\"%27\")\n",
    "    maxNumber=str(num.iloc[0,0])\n",
    "    query_str=(\"https://data.sfgov.org/resource/RowID.json?$where=call_date%20between%20%27\"\n",
    "           +earliest_iso+\"%27%20AND%20%27\"\n",
    "           +range_iso+\"%27&$limit=\"+maxNumber)\n",
    "    cfs_data=pd.read_json(query_str)\n",
    "    fn=fn_start+str(earliest)[0:10]+'_'+str(range_date)[0:10]+fn_end\n",
    "    cfs_data.to_csv(fn,index=False)\n",
    "    earliest= earliest+pd.DateOffset(days=30)\n",
    "    range_date = range_date+pd.DateOffset(days=30)\n",
    "    \n",
    "    "
   ]
  },
  {
   "cell_type": "code",
   "execution_count": null,
   "id": "99f97487",
   "metadata": {},
   "outputs": [],
   "source": []
  }
 ],
 "metadata": {
  "kernelspec": {
   "display_name": "Python 3",
   "language": "python",
   "name": "python3"
  },
  "language_info": {
   "codemirror_mode": {
    "name": "ipython",
    "version": 3
   },
   "file_extension": ".py",
   "mimetype": "text/x-python",
   "name": "python",
   "nbconvert_exporter": "python",
   "pygments_lexer": "ipython3",
   "version": "3.8.8"
  }
 },
 "nbformat": 4,
 "nbformat_minor": 5
}
