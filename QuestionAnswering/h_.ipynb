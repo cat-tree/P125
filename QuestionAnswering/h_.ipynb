{
 "cells": [
  {
   "cell_type": "code",
   "execution_count": 1,
   "id": "79e7b46f",
   "metadata": {},
   "outputs": [],
   "source": [
    "from transformers import TapasTokenizer\n",
    "import pandas as pd"
   ]
  },
  {
   "cell_type": "code",
   "execution_count": 2,
   "id": "f54ffe83",
   "metadata": {},
   "outputs": [],
   "source": [
    "model_name = 'google/tapas-base'\n",
    "\n",
    "tokenizer = TapasTokenizer.from_pretrained(model_name)"
   ]
  },
  {
   "cell_type": "code",
   "execution_count": 4,
   "id": "a0d30ac9",
   "metadata": {},
   "outputs": [
    {
     "name": "stdout",
     "output_type": "stream",
     "text": [
      "The number of incidents in the set is 7562\n"
     ]
    },
    {
     "data": {
      "text/html": [
       "<div>\n",
       "<style scoped>\n",
       "    .dataframe tbody tr th:only-of-type {\n",
       "        vertical-align: middle;\n",
       "    }\n",
       "\n",
       "    .dataframe tbody tr th {\n",
       "        vertical-align: top;\n",
       "    }\n",
       "\n",
       "    .dataframe thead th {\n",
       "        text-align: right;\n",
       "    }\n",
       "</style>\n",
       "<table border=\"1\" class=\"dataframe\">\n",
       "  <thead>\n",
       "    <tr style=\"text-align: right;\">\n",
       "      <th></th>\n",
       "      <th>incident</th>\n",
       "      <th>neighbourhood</th>\n",
       "    </tr>\n",
       "  </thead>\n",
       "  <tbody>\n",
       "    <tr>\n",
       "      <th>1</th>\n",
       "      <td>Medical Incident</td>\n",
       "      <td>Tenderloin</td>\n",
       "    </tr>\n",
       "    <tr>\n",
       "      <th>13</th>\n",
       "      <td>Medical Incident</td>\n",
       "      <td>Tenderloin</td>\n",
       "    </tr>\n",
       "    <tr>\n",
       "      <th>15</th>\n",
       "      <td>Medical Incident</td>\n",
       "      <td>Outer Richmond</td>\n",
       "    </tr>\n",
       "    <tr>\n",
       "      <th>19</th>\n",
       "      <td>Medical Incident</td>\n",
       "      <td>Bayview Hunters Point</td>\n",
       "    </tr>\n",
       "    <tr>\n",
       "      <th>20</th>\n",
       "      <td>Medical Incident</td>\n",
       "      <td>South of Market</td>\n",
       "    </tr>\n",
       "    <tr>\n",
       "      <th>41</th>\n",
       "      <td>Medical Incident</td>\n",
       "      <td>Chinatown</td>\n",
       "    </tr>\n",
       "    <tr>\n",
       "      <th>51</th>\n",
       "      <td>Medical Incident</td>\n",
       "      <td>West of Twin Peaks</td>\n",
       "    </tr>\n",
       "    <tr>\n",
       "      <th>55</th>\n",
       "      <td>Medical Incident</td>\n",
       "      <td>Marina</td>\n",
       "    </tr>\n",
       "    <tr>\n",
       "      <th>56</th>\n",
       "      <td>Medical Incident</td>\n",
       "      <td>Chinatown</td>\n",
       "    </tr>\n",
       "    <tr>\n",
       "      <th>57</th>\n",
       "      <td>Medical Incident</td>\n",
       "      <td>Bayview Hunters Point</td>\n",
       "    </tr>\n",
       "  </tbody>\n",
       "</table>\n",
       "</div>"
      ],
      "text/plain": [
       "            incident          neighbourhood\n",
       "1   Medical Incident             Tenderloin\n",
       "13  Medical Incident             Tenderloin\n",
       "15  Medical Incident         Outer Richmond\n",
       "19  Medical Incident  Bayview Hunters Point\n",
       "20  Medical Incident        South of Market\n",
       "41  Medical Incident              Chinatown\n",
       "51  Medical Incident     West of Twin Peaks\n",
       "55  Medical Incident                 Marina\n",
       "56  Medical Incident              Chinatown\n",
       "57  Medical Incident  Bayview Hunters Point"
      ]
     },
     "execution_count": 4,
     "metadata": {},
     "output_type": "execute_result"
    }
   ],
   "source": [
    "import pandas as pd\n",
    "import datetime\n",
    "# set 10 day lookback window\n",
    "periodend = datetime.datetime.now().isoformat()\n",
    "periodstart = (datetime.datetime.now()- datetime.timedelta(days=10)).isoformat()\n",
    "#Get count of incidents to determine limit to retrieve\n",
    "num=pd.read_json(\"https://data.sfgov.org/resource/RowID.json?$select=COUNT(incident_number)&$where=call_date%20between%20%27\"\n",
    "                 +str(periodstart)+\"%27%20AND%20%27\"+str(periodend)+\"%27\")\n",
    "maxNumber=num.iloc[0,0]\n",
    "print('The number of incidents in the set is',maxNumber)\n",
    "# Use record to write query call to API to get all incidents needed/bypass API default of 1000\n",
    "query_str=(\"https://data.sfgov.org/resource/RowID.json?$where=call_date%20between%20%27\"\n",
    "           +str(periodstart)+\"%27%20AND%20%27\"\n",
    "           +str(periodend)+\"%27&$limit=\"+str(maxNumber))\n",
    "cfs_data=pd.read_json(query_str)\n",
    "cfs_data=cfs_data.dropna()\n",
    "cfs_data= cfs_data.astype(str)\n",
    "cfs_small=cfs_data.head(10)\n",
    "cfs_data_tapas=cfs_small[['call_type','neighborhoods_analysis_boundaries']]\n",
    "#cfs_data_tapas=cfs_small[['unit_type','call_type','neighborhoods_analysis_boundaries']]\n",
    "cfs_data_tapas=cfs_data_tapas.rename(columns={\"call_type\":\"incident\",\"neighborhoods_analysis_boundaries\" : \"neighbourhood\" })\n",
    "cfs_data_tapas"
   ]
  },
  {
   "cell_type": "code",
   "execution_count": null,
   "id": "f8de8dc5",
   "metadata": {},
   "outputs": [],
   "source": [
    "queries = [\"Which neighbourhoods are incidents in?\"]"
   ]
  }
 ],
 "metadata": {
  "kernelspec": {
   "display_name": "Python 3",
   "language": "python",
   "name": "python3"
  },
  "language_info": {
   "codemirror_mode": {
    "name": "ipython",
    "version": 3
   },
   "file_extension": ".py",
   "mimetype": "text/x-python",
   "name": "python",
   "nbconvert_exporter": "python",
   "pygments_lexer": "ipython3",
   "version": "3.8.8"
  }
 },
 "nbformat": 4,
 "nbformat_minor": 5
}
