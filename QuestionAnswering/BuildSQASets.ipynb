{
 "cells": [
  {
   "cell_type": "code",
   "execution_count": 29,
   "id": "c0c1f51c",
   "metadata": {},
   "outputs": [],
   "source": [
    "import pandas as pd\n",
    "import numpy as np"
   ]
  },
  {
   "cell_type": "code",
   "execution_count": 43,
   "id": "df2d6c9d",
   "metadata": {},
   "outputs": [],
   "source": [
    "def generate_coords(col, high):\n",
    "    row=0\n",
    "    coords=[]\n",
    "    while row < high:\n",
    "        text='('+str(row)+','+str(col)+')'\n",
    "        coords.append(text)\n",
    "        row+=1\n",
    "    return coords\n",
    "\n",
    "def coords_from_list(col,coords_list):\n",
    "    coords=[]\n",
    "    for x in coords_list:\n",
    "        text='('+str(x)+','+str(col)+')'\n",
    "        coords.append(text)\n",
    "    return coords"
   ]
  },
  {
   "cell_type": "code",
   "execution_count": 3,
   "id": "b21188e2",
   "metadata": {},
   "outputs": [
    {
     "data": {
      "text/html": [
       "<div>\n",
       "<style scoped>\n",
       "    .dataframe tbody tr th:only-of-type {\n",
       "        vertical-align: middle;\n",
       "    }\n",
       "\n",
       "    .dataframe tbody tr th {\n",
       "        vertical-align: top;\n",
       "    }\n",
       "\n",
       "    .dataframe thead th {\n",
       "        text-align: right;\n",
       "    }\n",
       "</style>\n",
       "<table border=\"1\" class=\"dataframe\">\n",
       "  <thead>\n",
       "    <tr style=\"text-align: right;\">\n",
       "      <th></th>\n",
       "      <th>call_number</th>\n",
       "      <th>address</th>\n",
       "      <th>zipcode</th>\n",
       "      <th>neighborhood</th>\n",
       "      <th>station_area</th>\n",
       "    </tr>\n",
       "  </thead>\n",
       "  <tbody>\n",
       "    <tr>\n",
       "      <th>0</th>\n",
       "      <td>220170001</td>\n",
       "      <td>700 Block of 4TH ST</td>\n",
       "      <td>94107.0</td>\n",
       "      <td>Mission Bay</td>\n",
       "      <td>8</td>\n",
       "    </tr>\n",
       "    <tr>\n",
       "      <th>1</th>\n",
       "      <td>220170004</td>\n",
       "      <td>1000 Block of POTRERO AVE</td>\n",
       "      <td>94110.0</td>\n",
       "      <td>Potrero Hill</td>\n",
       "      <td>37</td>\n",
       "    </tr>\n",
       "    <tr>\n",
       "      <th>2</th>\n",
       "      <td>220170012</td>\n",
       "      <td>500 Block of GREEN ST</td>\n",
       "      <td>94133.0</td>\n",
       "      <td>North Beach</td>\n",
       "      <td>28</td>\n",
       "    </tr>\n",
       "    <tr>\n",
       "      <th>3</th>\n",
       "      <td>220170017</td>\n",
       "      <td>1000 Block of MARKET ST</td>\n",
       "      <td>94102.0</td>\n",
       "      <td>Tenderloin</td>\n",
       "      <td>1</td>\n",
       "    </tr>\n",
       "    <tr>\n",
       "      <th>4</th>\n",
       "      <td>220170020</td>\n",
       "      <td>0 Block of BLK MOLIMO DR</td>\n",
       "      <td>94127.0</td>\n",
       "      <td>West of Twin Peaks</td>\n",
       "      <td>39</td>\n",
       "    </tr>\n",
       "  </tbody>\n",
       "</table>\n",
       "</div>"
      ],
      "text/plain": [
       "   call_number                    address  zipcode        neighborhood  \\\n",
       "0    220170001        700 Block of 4TH ST  94107.0         Mission Bay   \n",
       "1    220170004  1000 Block of POTRERO AVE  94110.0        Potrero Hill   \n",
       "2    220170012      500 Block of GREEN ST  94133.0         North Beach   \n",
       "3    220170017    1000 Block of MARKET ST  94102.0          Tenderloin   \n",
       "4    220170020   0 Block of BLK MOLIMO DR  94127.0  West of Twin Peaks   \n",
       "\n",
       "   station_area  \n",
       "0             8  \n",
       "1            37  \n",
       "2            28  \n",
       "3             1  \n",
       "4            39  "
      ]
     },
     "execution_count": 3,
     "metadata": {},
     "output_type": "execute_result"
    }
   ],
   "source": [
    "locations = pd.read_csv(\"table_csv/2022_0117_locations.csv\")\n",
    "locations.head()"
   ]
  },
  {
   "cell_type": "code",
   "execution_count": 32,
   "id": "997071fc",
   "metadata": {},
   "outputs": [
    {
     "data": {
      "text/plain": [
       "389"
      ]
     },
     "execution_count": 32,
     "metadata": {},
     "output_type": "execute_result"
    }
   ],
   "source": [
    "locations.shape[0]"
   ]
  },
  {
   "cell_type": "code",
   "execution_count": 4,
   "id": "3e58a29d",
   "metadata": {},
   "outputs": [
    {
     "name": "stdout",
     "output_type": "stream",
     "text": [
      "['Mission Bay', 'Potrero Hill', 'North Beach', 'Tenderloin', 'West of Twin Peaks', 'Nob Hill', 'South of Market', 'Lakeshore', 'Excelsior', 'Marina', 'South of Market', 'Mission Bay', 'Chinatown', 'Hayes Valley', 'Haight Ashbury', 'Mission', 'South of Market', 'South of Market', 'Castro/Upper Market', 'South of Market', 'Mission', 'Tenderloin', 'Glen Park', 'Lakeshore', 'North Beach', 'Tenderloin', 'Tenderloin', 'North Beach', 'Lone Mountain/USF', 'Financial District/South Beach', 'Sunset/Parkside', 'Mission', 'Tenderloin', 'Bernal Heights', 'Japantown', 'Tenderloin', 'Tenderloin', 'Mission Bay', 'South of Market', 'South of Market', 'Tenderloin', 'South of Market', 'South of Market', 'Financial District/South Beach', 'Oceanview/Merced/Ingleside', 'Oceanview/Merced/Ingleside', 'Sunset/Parkside', 'Portola', 'South of Market', 'Mission', 'Financial District/South Beach', 'Tenderloin', 'Western Addition', 'Potrero Hill', 'Potrero Hill', 'Lakeshore', 'Golden Gate Park', 'South of Market', 'Tenderloin', 'Western Addition', 'Golden Gate Park', 'South of Market', 'Tenderloin', 'Outer Mission', 'Mission', 'Tenderloin', 'Mission', 'Tenderloin', 'Financial District/South Beach', 'Bernal Heights', 'Lakeshore', 'Bayview Hunters Point', 'South of Market', 'Sunset/Parkside', 'Marina', 'Western Addition', 'Mission', 'Tenderloin', 'Tenderloin', 'Mission', 'Potrero Hill', 'Bayview Hunters Point', 'Chinatown', 'Tenderloin', 'Financial District/South Beach', 'Western Addition', 'Tenderloin', 'Visitacion Valley', 'South of Market', 'Mission', 'Tenderloin', 'Bayview Hunters Point', 'Tenderloin', 'Mission', 'Mission Bay', 'Outer Richmond', 'Western Addition', 'Noe Valley', 'Tenderloin', 'Bayview Hunters Point', 'Western Addition', 'South of Market', 'South of Market', 'North Beach', 'Financial District/South Beach', 'West of Twin Peaks', 'Portola', 'Sunset/Parkside', 'Tenderloin', 'Sunset/Parkside', 'Western Addition', 'Lakeshore', 'Tenderloin', 'North Beach', 'Inner Richmond', 'Mission', 'Mission', 'Bayview Hunters Point', 'Bayview Hunters Point', 'South of Market', 'Financial District/South Beach', 'Financial District/South Beach', 'Outer Richmond', 'Tenderloin', 'Japantown', 'Western Addition', 'South of Market', 'Mission', 'Mission', 'Castro/Upper Market', 'Mission', 'Tenderloin', 'Potrero Hill', 'Haight Ashbury', 'Japantown', 'Western Addition', 'Mission', 'South of Market', 'Marina', 'Sunset/Parkside', 'Mission', 'Inner Richmond', 'South of Market', 'South of Market', 'Western Addition', 'Financial District/South Beach', 'South of Market', 'Outer Richmond', 'Mission', 'Sunset/Parkside', 'South of Market', 'South of Market', 'Mission', 'Pacific Heights', 'Mission', 'Japantown', 'Tenderloin', 'South of Market', 'Pacific Heights', 'Pacific Heights', 'Tenderloin', 'West of Twin Peaks', 'Pacific Heights', 'Castro/Upper Market', 'Hayes Valley', 'Visitacion Valley', 'Mission', 'Nob Hill', 'Western Addition', 'Tenderloin', 'Outer Richmond', 'Nob Hill', 'Sunset/Parkside', 'Tenderloin', 'Bayview Hunters Point', 'Pacific Heights', 'West of Twin Peaks', 'Tenderloin', 'Mission', 'North Beach', 'Tenderloin', 'Western Addition', 'Mission', 'Sunset/Parkside', 'Outer Mission', 'Noe Valley', 'Haight Ashbury', 'Mission', 'Chinatown', 'Nob Hill', 'Nob Hill', 'Excelsior', 'Mission', 'Portola', 'Tenderloin', 'Lakeshore', 'Haight Ashbury', 'Excelsior', 'Presidio Heights', 'Sunset/Parkside', 'Bayview Hunters Point', 'Western Addition', 'Tenderloin', 'Mission', 'Castro/Upper Market', 'Potrero Hill', 'Russian Hill', 'Sunset/Parkside', 'Financial District/South Beach', 'Outer Richmond', 'Oceanview/Merced/Ingleside', 'None', 'South of Market', 'West of Twin Peaks', 'Bayview Hunters Point', 'South of Market', 'Hayes Valley', 'Bayview Hunters Point', 'Seacliff', 'Mission', 'South of Market', 'Tenderloin', 'West of Twin Peaks', 'Outer Richmond', 'Visitacion Valley', 'Golden Gate Park', 'Potrero Hill', 'Treasure Island', 'Western Addition', 'Financial District/South Beach', 'Mission', 'South of Market', 'Haight Ashbury', 'Bayview Hunters Point', 'Golden Gate Park', 'Haight Ashbury', 'Chinatown', 'Mission', 'Mission', 'North Beach', 'Chinatown', 'Financial District/South Beach', 'Mission', 'South of Market', 'Western Addition', 'Mission', 'Outer Mission', 'Tenderloin', 'Sunset/Parkside', 'Chinatown', 'Mission', 'Japantown', 'South of Market', 'West of Twin Peaks', 'West of Twin Peaks', 'Hayes Valley', 'Tenderloin', 'Potrero Hill', 'Nob Hill', 'Financial District/South Beach', 'Tenderloin', 'Outer Mission', 'Mission', 'Presidio', 'West of Twin Peaks', 'Pacific Heights', 'Presidio', 'Golden Gate Park', 'Bayview Hunters Point', 'Tenderloin', 'Sunset/Parkside', 'Visitacion Valley', 'South of Market', 'Nob Hill', 'Mission', 'Potrero Hill', 'Russian Hill', 'Mission', 'Excelsior', 'Tenderloin', 'Excelsior', 'Outer Richmond', 'South of Market', 'Mission Bay', 'South of Market', 'Financial District/South Beach', 'Inner Richmond', 'Sunset/Parkside', 'Tenderloin', 'Western Addition', 'Tenderloin', 'Tenderloin', 'Visitacion Valley', 'Tenderloin', 'South of Market', 'Tenderloin', 'Tenderloin', 'Haight Ashbury', 'Noe Valley', 'Inner Richmond', 'South of Market', 'Bayview Hunters Point', 'Golden Gate Park', 'Tenderloin', 'Tenderloin', 'Presidio Heights', 'West of Twin Peaks', 'Outer Mission', 'Western Addition', 'Castro/Upper Market', 'Marina', 'Western Addition', 'West of Twin Peaks', 'Marina', 'Bayview Hunters Point', 'Financial District/South Beach', 'Nob Hill', 'Bernal Heights', 'Presidio', 'Tenderloin', 'Marina', 'South of Market', 'Tenderloin', 'South of Market', 'Russian Hill', 'Outer Richmond', 'South of Market', 'Western Addition', 'Potrero Hill', 'Hayes Valley', 'Hayes Valley', 'Chinatown', 'Treasure Island', 'Bayview Hunters Point', 'Western Addition', 'Western Addition', 'Tenderloin', 'Tenderloin', 'South of Market', 'Outer Mission', 'Lakeshore', 'Financial District/South Beach', 'Western Addition', 'Hayes Valley', 'North Beach', 'Outer Richmond', 'South of Market', 'Tenderloin', 'Bayview Hunters Point', 'Tenderloin', 'Oceanview/Merced/Ingleside', 'North Beach', 'Tenderloin', 'Mission', 'Mission', 'Presidio Heights', 'South of Market', 'Outer Richmond', 'Outer Richmond', 'Financial District/South Beach', 'Golden Gate Park', 'Outer Richmond', 'Twin Peaks', 'Tenderloin', 'Mission', 'Hayes Valley', 'Castro/Upper Market', 'Tenderloin', 'Mission', 'Japantown', 'Mission', 'South of Market', 'Tenderloin', 'South of Market', 'Tenderloin', 'South of Market', 'Bayview Hunters Point', 'Mission', 'Mission', 'Outer Mission', 'Western Addition', 'Tenderloin', 'Visitacion Valley', 'South of Market', 'South of Market', 'Castro/Upper Market', 'Outer Richmond', 'Haight Ashbury', 'Tenderloin']\n"
     ]
    }
   ],
   "source": [
    "neighborhood_list=list(locations['neighborhood'])\n",
    "print(neighborhood_list)"
   ]
  },
  {
   "cell_type": "code",
   "execution_count": 27,
   "id": "8459d8b7",
   "metadata": {},
   "outputs": [
    {
     "name": "stdout",
     "output_type": "stream",
     "text": [
      "['(0,3)', '(1,3)', '(2,3)', '(3,3)', '(4,3)', '(5,3)', '(6,3)', '(7,3)', '(8,3)', '(9,3)', '(10,3)', '(11,3)', '(12,3)', '(13,3)', '(14,3)', '(15,3)', '(16,3)', '(17,3)', '(18,3)', '(19,3)', '(20,3)', '(21,3)', '(22,3)', '(23,3)', '(24,3)', '(25,3)', '(26,3)', '(27,3)', '(28,3)', '(29,3)', '(30,3)', '(31,3)', '(32,3)', '(33,3)', '(34,3)', '(35,3)', '(36,3)', '(37,3)', '(38,3)', '(39,3)', '(40,3)', '(41,3)', '(42,3)', '(43,3)', '(44,3)', '(45,3)', '(46,3)', '(47,3)', '(48,3)', '(49,3)', '(50,3)', '(51,3)', '(52,3)', '(53,3)', '(54,3)', '(55,3)', '(56,3)', '(57,3)', '(58,3)', '(59,3)', '(60,3)', '(61,3)', '(62,3)', '(63,3)', '(64,3)', '(65,3)', '(66,3)', '(67,3)', '(68,3)', '(69,3)', '(70,3)', '(71,3)', '(72,3)', '(73,3)', '(74,3)', '(75,3)', '(76,3)', '(77,3)', '(78,3)', '(79,3)', '(80,3)', '(81,3)', '(82,3)', '(83,3)', '(84,3)', '(85,3)', '(86,3)', '(87,3)', '(88,3)', '(89,3)', '(90,3)', '(91,3)', '(92,3)', '(93,3)', '(94,3)', '(95,3)', '(96,3)', '(97,3)', '(98,3)', '(99,3)', '(100,3)', '(101,3)', '(102,3)', '(103,3)', '(104,3)', '(105,3)', '(106,3)', '(107,3)', '(108,3)', '(109,3)', '(110,3)', '(111,3)', '(112,3)', '(113,3)', '(114,3)', '(115,3)', '(116,3)', '(117,3)', '(118,3)', '(119,3)', '(120,3)', '(121,3)', '(122,3)', '(123,3)', '(124,3)', '(125,3)', '(126,3)', '(127,3)', '(128,3)', '(129,3)', '(130,3)', '(131,3)', '(132,3)', '(133,3)', '(134,3)', '(135,3)', '(136,3)', '(137,3)', '(138,3)', '(139,3)', '(140,3)', '(141,3)', '(142,3)', '(143,3)', '(144,3)', '(145,3)', '(146,3)', '(147,3)', '(148,3)', '(149,3)', '(150,3)', '(151,3)', '(152,3)', '(153,3)', '(154,3)', '(155,3)', '(156,3)', '(157,3)', '(158,3)', '(159,3)', '(160,3)', '(161,3)', '(162,3)', '(163,3)', '(164,3)', '(165,3)', '(166,3)', '(167,3)', '(168,3)', '(169,3)', '(170,3)', '(171,3)', '(172,3)', '(173,3)', '(174,3)', '(175,3)', '(176,3)', '(177,3)', '(178,3)', '(179,3)', '(180,3)', '(181,3)', '(182,3)', '(183,3)', '(184,3)', '(185,3)', '(186,3)', '(187,3)', '(188,3)', '(189,3)', '(190,3)', '(191,3)', '(192,3)', '(193,3)', '(194,3)', '(195,3)', '(196,3)', '(197,3)', '(198,3)', '(199,3)', '(200,3)', '(201,3)', '(202,3)', '(203,3)', '(204,3)', '(205,3)', '(206,3)', '(207,3)', '(208,3)', '(209,3)', '(210,3)', '(211,3)', '(212,3)', '(213,3)', '(214,3)', '(215,3)', '(216,3)', '(217,3)', '(218,3)', '(219,3)', '(220,3)', '(221,3)', '(222,3)', '(223,3)', '(224,3)', '(225,3)', '(226,3)', '(227,3)', '(228,3)', '(229,3)', '(230,3)', '(231,3)', '(232,3)', '(233,3)', '(234,3)', '(235,3)', '(236,3)', '(237,3)', '(238,3)', '(239,3)', '(240,3)', '(241,3)', '(242,3)', '(243,3)', '(244,3)', '(245,3)', '(246,3)', '(247,3)', '(248,3)', '(249,3)', '(250,3)', '(251,3)', '(252,3)', '(253,3)', '(254,3)', '(255,3)', '(256,3)', '(257,3)', '(258,3)', '(259,3)', '(260,3)', '(261,3)', '(262,3)', '(263,3)', '(264,3)', '(265,3)', '(266,3)', '(267,3)', '(268,3)', '(269,3)', '(270,3)', '(271,3)', '(272,3)', '(273,3)', '(274,3)', '(275,3)', '(276,3)', '(277,3)', '(278,3)', '(279,3)', '(280,3)', '(281,3)', '(282,3)', '(283,3)', '(284,3)', '(285,3)', '(286,3)', '(287,3)', '(288,3)', '(289,3)', '(290,3)', '(291,3)', '(292,3)', '(293,3)', '(294,3)', '(295,3)', '(296,3)', '(297,3)', '(298,3)', '(299,3)', '(300,3)', '(301,3)', '(302,3)', '(303,3)', '(304,3)', '(305,3)', '(306,3)', '(307,3)', '(308,3)', '(309,3)', '(310,3)', '(311,3)', '(312,3)', '(313,3)', '(314,3)', '(315,3)', '(316,3)', '(317,3)', '(318,3)', '(319,3)', '(320,3)', '(321,3)', '(322,3)', '(323,3)', '(324,3)', '(325,3)', '(326,3)', '(327,3)', '(328,3)', '(329,3)', '(330,3)', '(331,3)', '(332,3)', '(333,3)', '(334,3)', '(335,3)', '(336,3)', '(337,3)', '(338,3)', '(339,3)', '(340,3)', '(341,3)', '(342,3)', '(343,3)', '(344,3)', '(345,3)', '(346,3)', '(347,3)', '(348,3)', '(349,3)', '(350,3)', '(351,3)', '(352,3)', '(353,3)', '(354,3)', '(355,3)', '(356,3)', '(357,3)', '(358,3)', '(359,3)', '(360,3)', '(361,3)', '(362,3)', '(363,3)', '(364,3)', '(365,3)', '(366,3)', '(367,3)', '(368,3)', '(369,3)', '(370,3)', '(371,3)', '(372,3)', '(373,3)', '(374,3)', '(375,3)', '(376,3)', '(377,3)', '(378,3)', '(379,3)', '(380,3)', '(381,3)', '(382,3)', '(383,3)', '(384,3)', '(385,3)', '(386,3)', '(387,3)', '(388,3)']\n"
     ]
    }
   ],
   "source": [
    "neighborhood_list_indexes=generate_coords(3, locations.shape[0])\n",
    "print(neighborhood_list_indexes)"
   ]
  },
  {
   "cell_type": "code",
   "execution_count": 46,
   "id": "70e39c15",
   "metadata": {},
   "outputs": [
    {
     "name": "stdout",
     "output_type": "stream",
     "text": [
      "['(0,0)', '(11,0)', '(37,0)', '(94,0)', '(283,0)']\n",
      "[220170001, 220170053, 220170263, 220170622, 220172434]\n"
     ]
    }
   ],
   "source": [
    "mission_bay_index_list=locations.index[locations['neighborhood'] == 'Mission Bay'].tolist()\n",
    "mission_bay_inc_list=locations.call_number[locations['neighborhood'] == 'Mission Bay'].tolist()\n",
    "mission_bay_coords= coords_from_list(0,mission_bay_index_list)\n",
    "print(mission_bay_coords)\n",
    "print(mission_bay_inc_list)"
   ]
  },
  {
   "cell_type": "code",
   "execution_count": 50,
   "id": "67cbf63f",
   "metadata": {},
   "outputs": [
    {
     "name": "stdout",
     "output_type": "stream",
     "text": [
      "['(56,0)', '(114,0)', '(141,0)', '(170,0)', '(286,0)', '(299,0)', '(345,0)']\n",
      "[220170355, 220170807, 220171052, 220171247, 220172473, 220172577, 220172991]\n"
     ]
    }
   ],
   "source": [
    "sa_index_list=locations.index[locations['station_area'] == 31].tolist()\n",
    "sa_inc_list=locations.call_number[locations['station_area'] == 31].tolist()\n",
    "sa_coords= coords_from_list(0,sa_index_list)\n",
    "print(sa_coords)\n",
    "print(sa_inc_list)"
   ]
  },
  {
   "cell_type": "code",
   "execution_count": 51,
   "id": "0b9b9122",
   "metadata": {},
   "outputs": [
    {
     "name": "stdout",
     "output_type": "stream",
     "text": [
      "['(56,3)', '(114,3)', '(141,3)', '(170,3)', '(286,3)', '(299,3)', '(345,3)']\n",
      "['Golden Gate Park', 'Inner Richmond', 'Inner Richmond', 'Outer Richmond', 'Inner Richmond', 'Inner Richmond', 'Outer Richmond']\n"
     ]
    }
   ],
   "source": [
    "sa_index_list=locations.index[locations['station_area'] == 31].tolist()\n",
    "sa_inc_list=locations.neighborhood[locations['station_area'] == 31].tolist()\n",
    "sa_coords= coords_from_list(3,sa_index_list)\n",
    "print(sa_coords)\n",
    "print(sa_inc_list)"
   ]
  },
  {
   "cell_type": "code",
   "execution_count": 52,
   "id": "06ea1acf",
   "metadata": {},
   "outputs": [
    {
     "name": "stdout",
     "output_type": "stream",
     "text": [
      "[18]\n"
     ]
    }
   ],
   "source": [
    "address_index=locations.index[locations['call_number'] == 220170143].tolist()\n",
    "print(address_index)"
   ]
  },
  {
   "cell_type": "code",
   "execution_count": null,
   "id": "d07e471f",
   "metadata": {},
   "outputs": [],
   "source": []
  }
 ],
 "metadata": {
  "kernelspec": {
   "display_name": "Python 3",
   "language": "python",
   "name": "python3"
  },
  "language_info": {
   "codemirror_mode": {
    "name": "ipython",
    "version": 3
   },
   "file_extension": ".py",
   "mimetype": "text/x-python",
   "name": "python",
   "nbconvert_exporter": "python",
   "pygments_lexer": "ipython3",
   "version": "3.8.8"
  }
 },
 "nbformat": 4,
 "nbformat_minor": 5
}
