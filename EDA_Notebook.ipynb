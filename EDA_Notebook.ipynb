{
 "cells": [
  {
   "cell_type": "markdown",
   "metadata": {},
   "source": [
    "# EDA for Prototype's Fire Data\n",
    "#### Hannah Catri 217569841\n",
    "\n",
    "\n"
   ]
  },
  {
   "cell_type": "code",
   "execution_count": 1,
   "metadata": {},
   "outputs": [],
   "source": [
    "import pandas as pd\n",
    "from sodapy import Socrata\n",
    "import datetime\n",
    "from pandas_profiling import ProfileReport\n",
    "import requests\n",
    "import json"
   ]
  },
  {
   "cell_type": "markdown",
   "metadata": {},
   "source": [
    "## Emergency Services Data Stream"
   ]
  },
  {
   "cell_type": "markdown",
   "metadata": {},
   "source": [
    "#### Fire Department Calls for Service"
   ]
  },
  {
   "cell_type": "code",
   "execution_count": 2,
   "metadata": {},
   "outputs": [
    {
     "name": "stdout",
     "output_type": "stream",
     "text": [
      "The number of incidents in the set is 5649191\n"
     ]
    }
   ],
   "source": [
    "# Get the number of rows in the dataset\n",
    "# Save as a variable in case paging method of data retireval is needed\n",
    "num=pd.read_json(\"https://data.sfgov.org/resource/RowID.json?$select=COUNT(incident_number)\")\n",
    "maxNumber=num.iloc[0,0]\n",
    "print('The number of incidents in the set is',maxNumber)"
   ]
  },
  {
   "cell_type": "code",
   "execution_count": 3,
   "metadata": {},
   "outputs": [
    {
     "name": "stderr",
     "output_type": "stream",
     "text": [
      "WARNING:root:Requests made without an app_token will be subject to strict throttling limits.\n"
     ]
    },
    {
     "name": "stdout",
     "output_type": "stream",
     "text": [
      "CPU times: user 77.9 ms, sys: 8.83 ms, total: 86.8 ms\n",
      "Wall time: 1.29 s\n"
     ]
    },
    {
     "data": {
      "text/html": [
       "<div>\n",
       "<style scoped>\n",
       "    .dataframe tbody tr th:only-of-type {\n",
       "        vertical-align: middle;\n",
       "    }\n",
       "\n",
       "    .dataframe tbody tr th {\n",
       "        vertical-align: top;\n",
       "    }\n",
       "\n",
       "    .dataframe thead th {\n",
       "        text-align: right;\n",
       "    }\n",
       "</style>\n",
       "<table border=\"1\" class=\"dataframe\">\n",
       "  <thead>\n",
       "    <tr style=\"text-align: right;\">\n",
       "      <th></th>\n",
       "      <th>call_number</th>\n",
       "      <th>unit_id</th>\n",
       "      <th>incident_number</th>\n",
       "      <th>call_type</th>\n",
       "      <th>call_date</th>\n",
       "      <th>watch_date</th>\n",
       "      <th>received_dttm</th>\n",
       "      <th>entry_dttm</th>\n",
       "      <th>dispatch_dttm</th>\n",
       "      <th>response_dttm</th>\n",
       "      <th>...</th>\n",
       "      <th>call_type_group</th>\n",
       "      <th>number_of_alarms</th>\n",
       "      <th>unit_type</th>\n",
       "      <th>unit_sequence_in_call_dispatch</th>\n",
       "      <th>fire_prevention_district</th>\n",
       "      <th>supervisor_district</th>\n",
       "      <th>neighborhoods_analysis_boundaries</th>\n",
       "      <th>rowid</th>\n",
       "      <th>case_location</th>\n",
       "      <th>:@computed_region_ajp5_b2md</th>\n",
       "    </tr>\n",
       "  </thead>\n",
       "  <tbody>\n",
       "    <tr>\n",
       "      <th>414</th>\n",
       "      <td>210552675</td>\n",
       "      <td>RC4</td>\n",
       "      <td>21024660</td>\n",
       "      <td>Traffic Collision</td>\n",
       "      <td>2021-02-24T00:00:00.000</td>\n",
       "      <td>2021-02-24T00:00:00.000</td>\n",
       "      <td>2021-02-24T18:02:09.000</td>\n",
       "      <td>2021-02-24T18:06:49.000</td>\n",
       "      <td>2021-02-24T18:07:50.000</td>\n",
       "      <td>2021-02-24T18:10:59.000</td>\n",
       "      <td>...</td>\n",
       "      <td>Potentially Life-Threatening</td>\n",
       "      <td>1</td>\n",
       "      <td>RESCUE CAPTAIN</td>\n",
       "      <td>3</td>\n",
       "      <td>9</td>\n",
       "      <td>11</td>\n",
       "      <td>Outer Mission</td>\n",
       "      <td>210552675-RC4</td>\n",
       "      <td>{'type': 'Point', 'coordinates': [-122.4429273...</td>\n",
       "      <td>28</td>\n",
       "    </tr>\n",
       "    <tr>\n",
       "      <th>124</th>\n",
       "      <td>210370693</td>\n",
       "      <td>B06</td>\n",
       "      <td>21016668</td>\n",
       "      <td>Alarms</td>\n",
       "      <td>2021-02-06T00:00:00.000</td>\n",
       "      <td>2021-02-06T00:00:00.000</td>\n",
       "      <td>2021-02-06T08:34:46.000</td>\n",
       "      <td>2021-02-06T08:36:06.000</td>\n",
       "      <td>2021-02-06T08:36:14.000</td>\n",
       "      <td>2021-02-06T08:38:00.000</td>\n",
       "      <td>...</td>\n",
       "      <td>Alarm</td>\n",
       "      <td>1</td>\n",
       "      <td>CHIEF</td>\n",
       "      <td>2</td>\n",
       "      <td>6.0</td>\n",
       "      <td>9</td>\n",
       "      <td>Bernal Heights</td>\n",
       "      <td>210370693-B06</td>\n",
       "      <td>{'type': 'Point', 'coordinates': [-122.4182024...</td>\n",
       "      <td>2</td>\n",
       "    </tr>\n",
       "    <tr>\n",
       "      <th>1800</th>\n",
       "      <td>211581595</td>\n",
       "      <td>D2</td>\n",
       "      <td>21067466</td>\n",
       "      <td>Structure Fire</td>\n",
       "      <td>2021-06-07T00:00:00.000</td>\n",
       "      <td>2021-06-07T00:00:00.000</td>\n",
       "      <td>2021-06-07T12:40:50.000</td>\n",
       "      <td>2021-06-07T12:41:51.000</td>\n",
       "      <td>2021-06-07T12:42:16.000</td>\n",
       "      <td>2021-06-07T12:42:52.000</td>\n",
       "      <td>...</td>\n",
       "      <td>Alarm</td>\n",
       "      <td>1</td>\n",
       "      <td>CHIEF</td>\n",
       "      <td>8</td>\n",
       "      <td>7</td>\n",
       "      <td>5</td>\n",
       "      <td>Inner Sunset</td>\n",
       "      <td>211581595-D2</td>\n",
       "      <td>{'type': 'Point', 'coordinates': [-122.4729252...</td>\n",
       "      <td>14</td>\n",
       "    </tr>\n",
       "    <tr>\n",
       "      <th>288</th>\n",
       "      <td>210553275</td>\n",
       "      <td>QRV1</td>\n",
       "      <td>21024727</td>\n",
       "      <td>Medical Incident</td>\n",
       "      <td>2021-02-24T00:00:00.000</td>\n",
       "      <td>2021-02-24T00:00:00.000</td>\n",
       "      <td>2021-02-24T21:54:01.000</td>\n",
       "      <td>2021-02-24T21:56:26.000</td>\n",
       "      <td>2021-02-24T21:56:49.000</td>\n",
       "      <td>2021-02-24T21:56:54.000</td>\n",
       "      <td>...</td>\n",
       "      <td>Potentially Life-Threatening</td>\n",
       "      <td>1</td>\n",
       "      <td>SUPPORT</td>\n",
       "      <td>1</td>\n",
       "      <td>3</td>\n",
       "      <td>6</td>\n",
       "      <td>South of Market</td>\n",
       "      <td>210553275-QRV1</td>\n",
       "      <td>{'type': 'Point', 'coordinates': [-122.4090260...</td>\n",
       "      <td>34</td>\n",
       "    </tr>\n",
       "    <tr>\n",
       "      <th>1064</th>\n",
       "      <td>211081981</td>\n",
       "      <td>E08</td>\n",
       "      <td>21046762</td>\n",
       "      <td>Medical Incident</td>\n",
       "      <td>2021-04-18T00:00:00.000</td>\n",
       "      <td>2021-04-18T00:00:00.000</td>\n",
       "      <td>2021-04-18T16:02:36.000</td>\n",
       "      <td>2021-04-18T16:02:36.000</td>\n",
       "      <td>2021-04-18T16:03:00.000</td>\n",
       "      <td>2021-04-18T16:04:16.000</td>\n",
       "      <td>...</td>\n",
       "      <td>Potentially Life-Threatening</td>\n",
       "      <td>1</td>\n",
       "      <td>ENGINE</td>\n",
       "      <td>1</td>\n",
       "      <td>2</td>\n",
       "      <td>6</td>\n",
       "      <td>South of Market</td>\n",
       "      <td>211081981-E08</td>\n",
       "      <td>{'type': 'Point', 'coordinates': [-122.4110969...</td>\n",
       "      <td>34</td>\n",
       "    </tr>\n",
       "  </tbody>\n",
       "</table>\n",
       "<p>5 rows × 35 columns</p>\n",
       "</div>"
      ],
      "text/plain": [
       "     call_number unit_id incident_number          call_type  \\\n",
       "414    210552675     RC4        21024660  Traffic Collision   \n",
       "124    210370693     B06        21016668             Alarms   \n",
       "1800   211581595      D2        21067466     Structure Fire   \n",
       "288    210553275    QRV1        21024727   Medical Incident   \n",
       "1064   211081981     E08        21046762   Medical Incident   \n",
       "\n",
       "                    call_date               watch_date  \\\n",
       "414   2021-02-24T00:00:00.000  2021-02-24T00:00:00.000   \n",
       "124   2021-02-06T00:00:00.000  2021-02-06T00:00:00.000   \n",
       "1800  2021-06-07T00:00:00.000  2021-06-07T00:00:00.000   \n",
       "288   2021-02-24T00:00:00.000  2021-02-24T00:00:00.000   \n",
       "1064  2021-04-18T00:00:00.000  2021-04-18T00:00:00.000   \n",
       "\n",
       "                received_dttm               entry_dttm  \\\n",
       "414   2021-02-24T18:02:09.000  2021-02-24T18:06:49.000   \n",
       "124   2021-02-06T08:34:46.000  2021-02-06T08:36:06.000   \n",
       "1800  2021-06-07T12:40:50.000  2021-06-07T12:41:51.000   \n",
       "288   2021-02-24T21:54:01.000  2021-02-24T21:56:26.000   \n",
       "1064  2021-04-18T16:02:36.000  2021-04-18T16:02:36.000   \n",
       "\n",
       "                dispatch_dttm            response_dttm  ...  \\\n",
       "414   2021-02-24T18:07:50.000  2021-02-24T18:10:59.000  ...   \n",
       "124   2021-02-06T08:36:14.000  2021-02-06T08:38:00.000  ...   \n",
       "1800  2021-06-07T12:42:16.000  2021-06-07T12:42:52.000  ...   \n",
       "288   2021-02-24T21:56:49.000  2021-02-24T21:56:54.000  ...   \n",
       "1064  2021-04-18T16:03:00.000  2021-04-18T16:04:16.000  ...   \n",
       "\n",
       "                   call_type_group number_of_alarms       unit_type  \\\n",
       "414   Potentially Life-Threatening                1  RESCUE CAPTAIN   \n",
       "124                          Alarm                1           CHIEF   \n",
       "1800                         Alarm                1           CHIEF   \n",
       "288   Potentially Life-Threatening                1         SUPPORT   \n",
       "1064  Potentially Life-Threatening                1          ENGINE   \n",
       "\n",
       "     unit_sequence_in_call_dispatch fire_prevention_district  \\\n",
       "414                               3                        9   \n",
       "124                               2                      6.0   \n",
       "1800                              8                        7   \n",
       "288                               1                        3   \n",
       "1064                              1                        2   \n",
       "\n",
       "     supervisor_district neighborhoods_analysis_boundaries           rowid  \\\n",
       "414                   11                     Outer Mission   210552675-RC4   \n",
       "124                    9                    Bernal Heights   210370693-B06   \n",
       "1800                   5                      Inner Sunset    211581595-D2   \n",
       "288                    6                   South of Market  210553275-QRV1   \n",
       "1064                   6                   South of Market   211081981-E08   \n",
       "\n",
       "                                          case_location  \\\n",
       "414   {'type': 'Point', 'coordinates': [-122.4429273...   \n",
       "124   {'type': 'Point', 'coordinates': [-122.4182024...   \n",
       "1800  {'type': 'Point', 'coordinates': [-122.4729252...   \n",
       "288   {'type': 'Point', 'coordinates': [-122.4090260...   \n",
       "1064  {'type': 'Point', 'coordinates': [-122.4110969...   \n",
       "\n",
       "     :@computed_region_ajp5_b2md  \n",
       "414                           28  \n",
       "124                            2  \n",
       "1800                          14  \n",
       "288                           34  \n",
       "1064                          34  \n",
       "\n",
       "[5 rows x 35 columns]"
      ]
     },
     "execution_count": 3,
     "metadata": {},
     "output_type": "execute_result"
    }
   ],
   "source": [
    "%%time\n",
    "# Configure the Socrata client and create the generator that will retrieve the data\n",
    "client = Socrata(\"data.sfgov.org\", None)\n",
    "dataset_gen=client.get(\"nuek-vuh3\", limit=2000)\n",
    "# Extract the dataset, this may take a while.\n",
    "# Use shape to confirm the size matches the rows as per above maxNumber.\n",
    "fire_cfs_df = pd.DataFrame.from_records(dataset_gen)\n",
    "fire_cfs_df.shape\n",
    "fire_cfs_df.sample(5)"
   ]
  },
  {
   "cell_type": "code",
   "execution_count": 4,
   "metadata": {},
   "outputs": [
    {
     "name": "stdout",
     "output_type": "stream",
     "text": [
      "(1000, 34)\n"
     ]
    },
    {
     "data": {
      "text/html": [
       "<div>\n",
       "<style scoped>\n",
       "    .dataframe tbody tr th:only-of-type {\n",
       "        vertical-align: middle;\n",
       "    }\n",
       "\n",
       "    .dataframe tbody tr th {\n",
       "        vertical-align: top;\n",
       "    }\n",
       "\n",
       "    .dataframe thead th {\n",
       "        text-align: right;\n",
       "    }\n",
       "</style>\n",
       "<table border=\"1\" class=\"dataframe\">\n",
       "  <thead>\n",
       "    <tr style=\"text-align: right;\">\n",
       "      <th></th>\n",
       "      <th>call_number</th>\n",
       "      <th>unit_id</th>\n",
       "      <th>incident_number</th>\n",
       "      <th>call_type</th>\n",
       "      <th>call_date</th>\n",
       "      <th>watch_date</th>\n",
       "      <th>received_dttm</th>\n",
       "      <th>entry_dttm</th>\n",
       "      <th>dispatch_dttm</th>\n",
       "      <th>response_dttm</th>\n",
       "      <th>...</th>\n",
       "      <th>number_of_alarms</th>\n",
       "      <th>unit_type</th>\n",
       "      <th>unit_sequence_in_call_dispatch</th>\n",
       "      <th>fire_prevention_district</th>\n",
       "      <th>supervisor_district</th>\n",
       "      <th>neighborhoods_analysis_boundaries</th>\n",
       "      <th>rowid</th>\n",
       "      <th>case_location</th>\n",
       "      <th>transport_dttm</th>\n",
       "      <th>hospital_dttm</th>\n",
       "    </tr>\n",
       "  </thead>\n",
       "  <tbody>\n",
       "    <tr>\n",
       "      <th>708</th>\n",
       "      <td>212460317</td>\n",
       "      <td>E09</td>\n",
       "      <td>21105715</td>\n",
       "      <td>Medical Incident</td>\n",
       "      <td>2021-09-03T00:00:00.000</td>\n",
       "      <td>2021-09-02T00:00:00.000</td>\n",
       "      <td>2021-09-03T04:07:43.000</td>\n",
       "      <td>2021-09-03T04:09:06.000</td>\n",
       "      <td>2021-09-03T04:09:15.000</td>\n",
       "      <td>2021-09-03T04:11:57.000</td>\n",
       "      <td>...</td>\n",
       "      <td>1</td>\n",
       "      <td>ENGINE</td>\n",
       "      <td>1</td>\n",
       "      <td>10</td>\n",
       "      <td>10</td>\n",
       "      <td>Bayview Hunters Point</td>\n",
       "      <td>212460317-E09</td>\n",
       "      <td>{'type': 'Point', 'coordinates': [-122.4035072...</td>\n",
       "      <td>NaN</td>\n",
       "      <td>NaN</td>\n",
       "    </tr>\n",
       "    <tr>\n",
       "      <th>213</th>\n",
       "      <td>212463033</td>\n",
       "      <td>52</td>\n",
       "      <td>21106300</td>\n",
       "      <td>Medical Incident</td>\n",
       "      <td>2021-09-03T00:00:00.000</td>\n",
       "      <td>2021-09-03T00:00:00.000</td>\n",
       "      <td>2021-09-03T18:52:45.000</td>\n",
       "      <td>2021-09-03T18:52:45.000</td>\n",
       "      <td>2021-09-03T18:53:50.000</td>\n",
       "      <td>2021-09-03T18:53:53.000</td>\n",
       "      <td>...</td>\n",
       "      <td>1</td>\n",
       "      <td>MEDIC</td>\n",
       "      <td>2</td>\n",
       "      <td>9</td>\n",
       "      <td>11</td>\n",
       "      <td>Excelsior</td>\n",
       "      <td>212463033-52</td>\n",
       "      <td>{'type': 'Point', 'coordinates': [-122.4409453...</td>\n",
       "      <td>2021-09-03T19:21:00.000</td>\n",
       "      <td>2021-09-03T19:35:14.000</td>\n",
       "    </tr>\n",
       "    <tr>\n",
       "      <th>743</th>\n",
       "      <td>212460194</td>\n",
       "      <td>KM04</td>\n",
       "      <td>21105688</td>\n",
       "      <td>Medical Incident</td>\n",
       "      <td>2021-09-03T00:00:00.000</td>\n",
       "      <td>2021-09-02T00:00:00.000</td>\n",
       "      <td>2021-09-03T02:15:35.000</td>\n",
       "      <td>2021-09-03T02:15:35.000</td>\n",
       "      <td>2021-09-03T02:17:21.000</td>\n",
       "      <td>2021-09-03T02:18:03.000</td>\n",
       "      <td>...</td>\n",
       "      <td>1</td>\n",
       "      <td>PRIVATE</td>\n",
       "      <td>1</td>\n",
       "      <td>8.0</td>\n",
       "      <td>4</td>\n",
       "      <td>Sunset/Parkside</td>\n",
       "      <td>212460194-KM04</td>\n",
       "      <td>{'type': 'Point', 'coordinates': [-122.4864467...</td>\n",
       "      <td>2021-09-03T03:06:46.000</td>\n",
       "      <td>2021-09-03T03:34:18.000</td>\n",
       "    </tr>\n",
       "    <tr>\n",
       "      <th>658</th>\n",
       "      <td>212460494</td>\n",
       "      <td>E33</td>\n",
       "      <td>21105739</td>\n",
       "      <td>Structure Fire</td>\n",
       "      <td>2021-09-03T00:00:00.000</td>\n",
       "      <td>2021-09-02T00:00:00.000</td>\n",
       "      <td>2021-09-03T06:46:25.000</td>\n",
       "      <td>2021-09-03T06:47:15.000</td>\n",
       "      <td>2021-09-03T06:47:23.000</td>\n",
       "      <td>2021-09-03T06:48:21.000</td>\n",
       "      <td>...</td>\n",
       "      <td>1</td>\n",
       "      <td>ENGINE</td>\n",
       "      <td>3</td>\n",
       "      <td>9</td>\n",
       "      <td>7</td>\n",
       "      <td>West of Twin Peaks</td>\n",
       "      <td>212460494-E33</td>\n",
       "      <td>{'type': 'Point', 'coordinates': [-122.4649381...</td>\n",
       "      <td>NaN</td>\n",
       "      <td>NaN</td>\n",
       "    </tr>\n",
       "    <tr>\n",
       "      <th>619</th>\n",
       "      <td>212460887</td>\n",
       "      <td>E07</td>\n",
       "      <td>21106058</td>\n",
       "      <td>Medical Incident</td>\n",
       "      <td>2021-09-03T00:00:00.000</td>\n",
       "      <td>2021-09-03T00:00:00.000</td>\n",
       "      <td>2021-09-03T10:11:31.000</td>\n",
       "      <td>2021-09-03T10:11:31.000</td>\n",
       "      <td>2021-09-03T10:11:31.000</td>\n",
       "      <td>2021-09-03T10:11:31.000</td>\n",
       "      <td>...</td>\n",
       "      <td>1</td>\n",
       "      <td>ENGINE</td>\n",
       "      <td>2</td>\n",
       "      <td>6</td>\n",
       "      <td>9</td>\n",
       "      <td>Mission</td>\n",
       "      <td>212460887-E07</td>\n",
       "      <td>{'type': 'Point', 'coordinates': [-122.4125496...</td>\n",
       "      <td>NaN</td>\n",
       "      <td>NaN</td>\n",
       "    </tr>\n",
       "  </tbody>\n",
       "</table>\n",
       "<p>5 rows × 34 columns</p>\n",
       "</div>"
      ],
      "text/plain": [
       "     call_number unit_id  incident_number         call_type  \\\n",
       "708    212460317     E09         21105715  Medical Incident   \n",
       "213    212463033      52         21106300  Medical Incident   \n",
       "743    212460194    KM04         21105688  Medical Incident   \n",
       "658    212460494     E33         21105739    Structure Fire   \n",
       "619    212460887     E07         21106058  Medical Incident   \n",
       "\n",
       "                   call_date               watch_date  \\\n",
       "708  2021-09-03T00:00:00.000  2021-09-02T00:00:00.000   \n",
       "213  2021-09-03T00:00:00.000  2021-09-03T00:00:00.000   \n",
       "743  2021-09-03T00:00:00.000  2021-09-02T00:00:00.000   \n",
       "658  2021-09-03T00:00:00.000  2021-09-02T00:00:00.000   \n",
       "619  2021-09-03T00:00:00.000  2021-09-03T00:00:00.000   \n",
       "\n",
       "               received_dttm               entry_dttm  \\\n",
       "708  2021-09-03T04:07:43.000  2021-09-03T04:09:06.000   \n",
       "213  2021-09-03T18:52:45.000  2021-09-03T18:52:45.000   \n",
       "743  2021-09-03T02:15:35.000  2021-09-03T02:15:35.000   \n",
       "658  2021-09-03T06:46:25.000  2021-09-03T06:47:15.000   \n",
       "619  2021-09-03T10:11:31.000  2021-09-03T10:11:31.000   \n",
       "\n",
       "               dispatch_dttm            response_dttm  ... number_of_alarms  \\\n",
       "708  2021-09-03T04:09:15.000  2021-09-03T04:11:57.000  ...                1   \n",
       "213  2021-09-03T18:53:50.000  2021-09-03T18:53:53.000  ...                1   \n",
       "743  2021-09-03T02:17:21.000  2021-09-03T02:18:03.000  ...                1   \n",
       "658  2021-09-03T06:47:23.000  2021-09-03T06:48:21.000  ...                1   \n",
       "619  2021-09-03T10:11:31.000  2021-09-03T10:11:31.000  ...                1   \n",
       "\n",
       "    unit_type unit_sequence_in_call_dispatch fire_prevention_district  \\\n",
       "708    ENGINE                              1                       10   \n",
       "213     MEDIC                              2                        9   \n",
       "743   PRIVATE                              1                      8.0   \n",
       "658    ENGINE                              3                        9   \n",
       "619    ENGINE                              2                        6   \n",
       "\n",
       "    supervisor_district  neighborhoods_analysis_boundaries           rowid  \\\n",
       "708                  10              Bayview Hunters Point   212460317-E09   \n",
       "213                  11                          Excelsior    212463033-52   \n",
       "743                   4                    Sunset/Parkside  212460194-KM04   \n",
       "658                   7                 West of Twin Peaks   212460494-E33   \n",
       "619                   9                            Mission   212460887-E07   \n",
       "\n",
       "                                         case_location  \\\n",
       "708  {'type': 'Point', 'coordinates': [-122.4035072...   \n",
       "213  {'type': 'Point', 'coordinates': [-122.4409453...   \n",
       "743  {'type': 'Point', 'coordinates': [-122.4864467...   \n",
       "658  {'type': 'Point', 'coordinates': [-122.4649381...   \n",
       "619  {'type': 'Point', 'coordinates': [-122.4125496...   \n",
       "\n",
       "              transport_dttm            hospital_dttm  \n",
       "708                      NaN                      NaN  \n",
       "213  2021-09-03T19:21:00.000  2021-09-03T19:35:14.000  \n",
       "743  2021-09-03T03:06:46.000  2021-09-03T03:34:18.000  \n",
       "658                      NaN                      NaN  \n",
       "619                      NaN                      NaN  \n",
       "\n",
       "[5 rows x 34 columns]"
      ]
     },
     "execution_count": 4,
     "metadata": {},
     "output_type": "execute_result"
    }
   ],
   "source": [
    "# set 10 day lookback window\n",
    "periodend = datetime.datetime.now().isoformat()\n",
    "periodstart = (datetime.datetime.now()- datetime.timedelta(days=7)).isoformat()\n",
    "query_str=(\"https://data.sfgov.org/resource/RowID.json?$where=call_date%20between%20%27\"+str(periodstart)+\"%27%20AND%20%27\"+str(periodend)+\"%27\")\n",
    "#print(query_str)\n",
    "data=pd.read_json(query_str)\n",
    "print(data.shape)\n",
    "data.sample(5)"
   ]
  },
  {
   "cell_type": "code",
   "execution_count": 5,
   "metadata": {},
   "outputs": [
    {
     "data": {
      "application/vnd.jupyter.widget-view+json": {
       "model_id": "af6a9537ab1e461a849425923a9b9cc5",
       "version_major": 2,
       "version_minor": 0
      },
      "text/plain": [
       "Summarize dataset:   0%|          | 0/47 [00:00<?, ?it/s]"
      ]
     },
     "metadata": {},
     "output_type": "display_data"
    },
    {
     "data": {
      "application/vnd.jupyter.widget-view+json": {
       "model_id": "e157face7b6145b99723a03a8cd4825e",
       "version_major": 2,
       "version_minor": 0
      },
      "text/plain": [
       "Generate report structure:   0%|          | 0/1 [00:00<?, ?it/s]"
      ]
     },
     "metadata": {},
     "output_type": "display_data"
    },
    {
     "data": {
      "application/vnd.jupyter.widget-view+json": {
       "model_id": "",
       "version_major": 2,
       "version_minor": 0
      },
      "text/plain": [
       "Render widgets:   0%|          | 0/1 [00:00<?, ?it/s]"
      ]
     },
     "metadata": {},
     "output_type": "display_data"
    },
    {
     "data": {
      "application/vnd.jupyter.widget-view+json": {
       "model_id": "ffe919c5f0704025855454e73ccb0a38",
       "version_major": 2,
       "version_minor": 0
      },
      "text/plain": [
       "VBox(children=(Tab(children=(Tab(children=(GridBox(children=(VBox(children=(GridspecLayout(children=(HTML(valu…"
      ]
     },
     "metadata": {},
     "output_type": "display_data"
    }
   ],
   "source": [
    "profile = ProfileReport(data, title=\"Fire Dept Calls for Service\")\n",
    "profile.to_widgets()"
   ]
  },
  {
   "cell_type": "markdown",
   "metadata": {},
   "source": [
    "## Twitter Data Stream"
   ]
  },
  {
   "cell_type": "markdown",
   "metadata": {},
   "source": [
    "#### Tweets with the word 'fire' in region"
   ]
  },
  {
   "cell_type": "code",
   "execution_count": 6,
   "metadata": {},
   "outputs": [],
   "source": [
    "bearer_token = 'AAAAAAAAAAAAAAAAAAAAAMdDTQEAAAAAfYqWjo5%2BOgmFP%2FmqGGkq74pEahs%3DNqy7E6BdRittRWu2v3DJAVXEvbDLhAejdCBccR4mQPNO70s9Sl'"
   ]
  },
  {
   "cell_type": "code",
   "execution_count": 7,
   "metadata": {},
   "outputs": [],
   "source": [
    "\n",
    "def create_headers(bearer_token):\n",
    "    headers = {\"Authorization\": \"Bearer {}\".format(bearer_token)}\n",
    "    \n",
    "    return headers"
   ]
  },
  {
   "cell_type": "code",
   "execution_count": 8,
   "metadata": {},
   "outputs": [],
   "source": [
    "def create_url(keyword,start_date, end_date, max_results = 10):\n",
    "    \n",
    "    search_url = \"https://api.twitter.com/2/tweets/search/recent\" #Change to the endpoint you want to collect data from\n",
    "\n",
    "    #change params based on the endpoint you are using\n",
    "    query_params = {'query': keyword,\n",
    "                    'start_time': start_date,\n",
    "                    'end_time': end_date,\n",
    "                    'max_results': max_results,\n",
    "                    'expansions': 'author_id,in_reply_to_user_id,geo.place_id',\n",
    "                    'tweet.fields': 'id,text,author_id,in_reply_to_user_id,geo,conversation_id,created_at,lang,public_metrics,referenced_tweets,reply_settings,source',\n",
    "                    'user.fields': 'id,name,username,created_at,description,public_metrics,verified',\n",
    "                    'place.fields': 'full_name,id,country,country_code,geo,name,place_type',\n",
    "                    'next_token': {}}\n",
    "    return (search_url, query_params)"
   ]
  },
  {
   "cell_type": "code",
   "execution_count": 9,
   "metadata": {},
   "outputs": [],
   "source": [
    "def connect_to_endpoint(url, headers, params, next_token = None):\n",
    "    params['next_token'] = next_token   #params object received from create_url function\n",
    "    response = requests.request(\"GET\", url, headers = headers, params = params)\n",
    "    print(\"Endpoint Response Code: \" + str(response.status_code))\n",
    "    if response.status_code != 200:\n",
    "        raise Exception(response.status_code, response.text)\n",
    "    return response.json()"
   ]
  },
  {
   "cell_type": "code",
   "execution_count": 10,
   "metadata": {},
   "outputs": [],
   "source": [
    "periodend = datetime.datetime.now().isoformat()\n",
    "periodstart = (datetime.datetime.now()- datetime.timedelta(days=2)).isoformat()\n",
    "#Inputs for the request\n",
    "headers = create_headers(bearer_token)\n",
    "keyword = \"caldor fire lang:en\"\n",
    "#place = \"San Francisco\"\n",
    "start_time = periodstart[:-2]+'Z'\n",
    "end_time = periodend[:-2]+'Z'\n",
    "max_results = 100"
   ]
  },
  {
   "cell_type": "code",
   "execution_count": 11,
   "metadata": {},
   "outputs": [
    {
     "name": "stdout",
     "output_type": "stream",
     "text": [
      "Endpoint Response Code: 200\n"
     ]
    }
   ],
   "source": [
    "url = create_url(keyword, start_time,end_time, max_results)\n",
    "json_response = connect_to_endpoint(url[0], headers, url[1])"
   ]
  },
  {
   "cell_type": "code",
   "execution_count": 12,
   "metadata": {},
   "outputs": [
    {
     "data": {
      "text/html": [
       "<div>\n",
       "<style scoped>\n",
       "    .dataframe tbody tr th:only-of-type {\n",
       "        vertical-align: middle;\n",
       "    }\n",
       "\n",
       "    .dataframe tbody tr th {\n",
       "        vertical-align: top;\n",
       "    }\n",
       "\n",
       "    .dataframe thead th {\n",
       "        text-align: right;\n",
       "    }\n",
       "</style>\n",
       "<table border=\"1\" class=\"dataframe\">\n",
       "  <thead>\n",
       "    <tr style=\"text-align: right;\">\n",
       "      <th></th>\n",
       "      <th>lang</th>\n",
       "      <th>reply_settings</th>\n",
       "      <th>created_at</th>\n",
       "      <th>source</th>\n",
       "      <th>conversation_id</th>\n",
       "      <th>id</th>\n",
       "      <th>text</th>\n",
       "      <th>author_id</th>\n",
       "      <th>referenced_tweets</th>\n",
       "      <th>public_metrics.retweet_count</th>\n",
       "      <th>public_metrics.reply_count</th>\n",
       "      <th>public_metrics.like_count</th>\n",
       "      <th>public_metrics.quote_count</th>\n",
       "      <th>geo.place_id</th>\n",
       "    </tr>\n",
       "  </thead>\n",
       "  <tbody>\n",
       "    <tr>\n",
       "      <th>0</th>\n",
       "      <td>en</td>\n",
       "      <td>everyone</td>\n",
       "      <td>2021-09-09T16:05:38.000Z</td>\n",
       "      <td>Twitter for iPhone</td>\n",
       "      <td>1435997837808914435</td>\n",
       "      <td>1435997837808914435</td>\n",
       "      <td>RT @sfchronicle: A foil-wrapped home survived ...</td>\n",
       "      <td>705710778</td>\n",
       "      <td>[{'type': 'retweeted', 'id': '1435729419683852...</td>\n",
       "      <td>1757</td>\n",
       "      <td>0</td>\n",
       "      <td>0</td>\n",
       "      <td>0</td>\n",
       "      <td>NaN</td>\n",
       "    </tr>\n",
       "    <tr>\n",
       "      <th>1</th>\n",
       "      <td>en</td>\n",
       "      <td>everyone</td>\n",
       "      <td>2021-09-09T16:05:37.000Z</td>\n",
       "      <td>Twitter Web App</td>\n",
       "      <td>1435997831395954694</td>\n",
       "      <td>1435997831395954694</td>\n",
       "      <td>RT @accuweather: Millions of acres have been s...</td>\n",
       "      <td>48160300</td>\n",
       "      <td>[{'type': 'retweeted', 'id': '1435996589433278...</td>\n",
       "      <td>3</td>\n",
       "      <td>0</td>\n",
       "      <td>0</td>\n",
       "      <td>0</td>\n",
       "      <td>NaN</td>\n",
       "    </tr>\n",
       "    <tr>\n",
       "      <th>2</th>\n",
       "      <td>en</td>\n",
       "      <td>everyone</td>\n",
       "      <td>2021-09-09T16:05:36.000Z</td>\n",
       "      <td>Twitter for iPhone</td>\n",
       "      <td>1435997828573245441</td>\n",
       "      <td>1435997828573245441</td>\n",
       "      <td>RT @wildland_zko: #CaldorFire - 9/8/2021\\nOur ...</td>\n",
       "      <td>20941869</td>\n",
       "      <td>[{'type': 'retweeted', 'id': '1435605059979546...</td>\n",
       "      <td>18</td>\n",
       "      <td>0</td>\n",
       "      <td>0</td>\n",
       "      <td>0</td>\n",
       "      <td>NaN</td>\n",
       "    </tr>\n",
       "    <tr>\n",
       "      <th>3</th>\n",
       "      <td>en</td>\n",
       "      <td>everyone</td>\n",
       "      <td>2021-09-09T16:05:14.000Z</td>\n",
       "      <td>Twitter for iPhone</td>\n",
       "      <td>1435997737992867846</td>\n",
       "      <td>1435997737992867846</td>\n",
       "      <td>RT @sfchronicle: A foil-wrapped home survived ...</td>\n",
       "      <td>2459187866</td>\n",
       "      <td>[{'type': 'retweeted', 'id': '1435729419683852...</td>\n",
       "      <td>1757</td>\n",
       "      <td>0</td>\n",
       "      <td>0</td>\n",
       "      <td>0</td>\n",
       "      <td>NaN</td>\n",
       "    </tr>\n",
       "    <tr>\n",
       "      <th>4</th>\n",
       "      <td>en</td>\n",
       "      <td>everyone</td>\n",
       "      <td>2021-09-09T16:04:58.000Z</td>\n",
       "      <td>Twitter Web App</td>\n",
       "      <td>1435997670481403905</td>\n",
       "      <td>1435997670481403905</td>\n",
       "      <td>RT @sfchronicle: A foil-wrapped home survived ...</td>\n",
       "      <td>332856426</td>\n",
       "      <td>[{'type': 'retweeted', 'id': '1435729419683852...</td>\n",
       "      <td>1757</td>\n",
       "      <td>0</td>\n",
       "      <td>0</td>\n",
       "      <td>0</td>\n",
       "      <td>NaN</td>\n",
       "    </tr>\n",
       "  </tbody>\n",
       "</table>\n",
       "</div>"
      ],
      "text/plain": [
       "  lang reply_settings                created_at              source  \\\n",
       "0   en       everyone  2021-09-09T16:05:38.000Z  Twitter for iPhone   \n",
       "1   en       everyone  2021-09-09T16:05:37.000Z     Twitter Web App   \n",
       "2   en       everyone  2021-09-09T16:05:36.000Z  Twitter for iPhone   \n",
       "3   en       everyone  2021-09-09T16:05:14.000Z  Twitter for iPhone   \n",
       "4   en       everyone  2021-09-09T16:04:58.000Z     Twitter Web App   \n",
       "\n",
       "       conversation_id                   id  \\\n",
       "0  1435997837808914435  1435997837808914435   \n",
       "1  1435997831395954694  1435997831395954694   \n",
       "2  1435997828573245441  1435997828573245441   \n",
       "3  1435997737992867846  1435997737992867846   \n",
       "4  1435997670481403905  1435997670481403905   \n",
       "\n",
       "                                                text   author_id  \\\n",
       "0  RT @sfchronicle: A foil-wrapped home survived ...   705710778   \n",
       "1  RT @accuweather: Millions of acres have been s...    48160300   \n",
       "2  RT @wildland_zko: #CaldorFire - 9/8/2021\\nOur ...    20941869   \n",
       "3  RT @sfchronicle: A foil-wrapped home survived ...  2459187866   \n",
       "4  RT @sfchronicle: A foil-wrapped home survived ...   332856426   \n",
       "\n",
       "                                   referenced_tweets  \\\n",
       "0  [{'type': 'retweeted', 'id': '1435729419683852...   \n",
       "1  [{'type': 'retweeted', 'id': '1435996589433278...   \n",
       "2  [{'type': 'retweeted', 'id': '1435605059979546...   \n",
       "3  [{'type': 'retweeted', 'id': '1435729419683852...   \n",
       "4  [{'type': 'retweeted', 'id': '1435729419683852...   \n",
       "\n",
       "   public_metrics.retweet_count  public_metrics.reply_count  \\\n",
       "0                          1757                           0   \n",
       "1                             3                           0   \n",
       "2                            18                           0   \n",
       "3                          1757                           0   \n",
       "4                          1757                           0   \n",
       "\n",
       "   public_metrics.like_count  public_metrics.quote_count geo.place_id  \n",
       "0                          0                           0          NaN  \n",
       "1                          0                           0          NaN  \n",
       "2                          0                           0          NaN  \n",
       "3                          0                           0          NaN  \n",
       "4                          0                           0          NaN  "
      ]
     },
     "execution_count": 12,
     "metadata": {},
     "output_type": "execute_result"
    }
   ],
   "source": [
    "tweets=pd.json_normalize(json_response['data'])\n",
    "tweets.head()"
   ]
  },
  {
   "cell_type": "code",
   "execution_count": 13,
   "metadata": {},
   "outputs": [
    {
     "data": {
      "application/vnd.jupyter.widget-view+json": {
       "model_id": "28daa2b1b04d4679b751124456dadef2",
       "version_major": 2,
       "version_minor": 0
      },
      "text/plain": [
       "Summarize dataset:   0%|          | 0/27 [00:00<?, ?it/s]"
      ]
     },
     "metadata": {},
     "output_type": "display_data"
    },
    {
     "data": {
      "application/vnd.jupyter.widget-view+json": {
       "model_id": "bcddb05814934a58856ac907db4be85f",
       "version_major": 2,
       "version_minor": 0
      },
      "text/plain": [
       "Generate report structure:   0%|          | 0/1 [00:00<?, ?it/s]"
      ]
     },
     "metadata": {},
     "output_type": "display_data"
    },
    {
     "data": {
      "application/vnd.jupyter.widget-view+json": {
       "model_id": "",
       "version_major": 2,
       "version_minor": 0
      },
      "text/plain": [
       "Render widgets:   0%|          | 0/1 [00:00<?, ?it/s]"
      ]
     },
     "metadata": {},
     "output_type": "display_data"
    },
    {
     "data": {
      "application/vnd.jupyter.widget-view+json": {
       "model_id": "c1e6f25668de4f86bd349d491d507006",
       "version_major": 2,
       "version_minor": 0
      },
      "text/plain": [
       "VBox(children=(Tab(children=(Tab(children=(GridBox(children=(VBox(children=(GridspecLayout(children=(HTML(valu…"
      ]
     },
     "metadata": {},
     "output_type": "display_data"
    }
   ],
   "source": [
    "profile = ProfileReport(tweets, title=\"Fire Related Tweets\")\n",
    "profile.to_widgets()"
   ]
  },
  {
   "cell_type": "markdown",
   "metadata": {},
   "source": [
    "## Climate Data Stream"
   ]
  },
  {
   "cell_type": "markdown",
   "metadata": {},
   "source": [
    "#### Weather API\n",
    "\n",
    "Add weather API: https://www.weather.gov/documentation/services-web-api\n"
   ]
  },
  {
   "cell_type": "code",
   "execution_count": null,
   "metadata": {},
   "outputs": [],
   "source": [
    "\n"
   ]
  }
 ],
 "metadata": {
  "kernelspec": {
   "display_name": "Python 3",
   "language": "python",
   "name": "python3"
  },
  "language_info": {
   "codemirror_mode": {
    "name": "ipython",
    "version": 3
   },
   "file_extension": ".py",
   "mimetype": "text/x-python",
   "name": "python",
   "nbconvert_exporter": "python",
   "pygments_lexer": "ipython3",
   "version": "3.8.8"
  }
 },
 "nbformat": 4,
 "nbformat_minor": 2
}
