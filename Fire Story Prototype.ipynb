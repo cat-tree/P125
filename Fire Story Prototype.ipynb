{
 "cells": [
  {
   "cell_type": "markdown",
   "id": "4d34f6de",
   "metadata": {},
   "source": [
    "# Fire Story Prototype\n",
    "#### Hannah Catri 217569841"
   ]
  },
  {
   "cell_type": "code",
   "execution_count": null,
   "id": "66d1ffcb",
   "metadata": {},
   "outputs": [],
   "source": []
  },
  {
   "cell_type": "code",
   "execution_count": null,
   "id": "b129bfa2",
   "metadata": {},
   "outputs": [],
   "source": [
    "import pandas as pd\n",
    "from sodapy import Socrata\n",
    "import datetime\n",
    "from pandas_profiling import ProfileReport\n",
    "import requests\n",
    "import json\n",
    "import geopandas as gpd\n",
    "import plotly.express as px\n",
    "import datetime"
   ]
  }
 ],
 "metadata": {
  "kernelspec": {
   "display_name": "Python 3",
   "language": "python",
   "name": "python3"
  },
  "language_info": {
   "codemirror_mode": {
    "name": "ipython",
    "version": 3
   },
   "file_extension": ".py",
   "mimetype": "text/x-python",
   "name": "python",
   "nbconvert_exporter": "python",
   "pygments_lexer": "ipython3",
   "version": "3.8.8"
  }
 },
 "nbformat": 4,
 "nbformat_minor": 5
}
