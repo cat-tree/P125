{
 "cells": [
  {
   "cell_type": "code",
   "execution_count": 4,
   "id": "1972ca3f-7906-4bd7-916b-1d8d1ae9e817",
   "metadata": {},
   "outputs": [],
   "source": [
    "from transformers import TapasTokenizer, TapasForQuestionAnswering\n",
    "import pandas as pd\n",
    "import datetime"
   ]
  },
  {
   "cell_type": "code",
   "execution_count": 2,
   "id": "7df33bd6-1481-4dc8-b06d-58941b904ea2",
   "metadata": {},
   "outputs": [
    {
     "data": {
      "application/vnd.jupyter.widget-view+json": {
       "model_id": "b5efa5efc60441008869c010f3d807fb",
       "version_major": 2,
       "version_minor": 0
      },
      "text/plain": [
       "Downloading:   0%|          | 0.00/422M [00:00<?, ?B/s]"
      ]
     },
     "metadata": {},
     "output_type": "display_data"
    }
   ],
   "source": [
    "tokenizer = TapasTokenizer.from_pretrained('google/tapas-base-finetuned-wtq')\n",
    "model = TapasForQuestionAnswering.from_pretrained('google/tapas-base-finetuned-wtq')"
   ]
  },
  {
   "cell_type": "code",
   "execution_count": 28,
   "id": "4ba9a135-62b2-4bb0-93d1-fa0e4601a422",
   "metadata": {},
   "outputs": [
    {
     "name": "stdout",
     "output_type": "stream",
     "text": [
      "The number of incidents in the set is 8802\n",
      "(8802, 34)\n"
     ]
    },
    {
     "data": {
      "text/html": [
       "<div>\n",
       "<style scoped>\n",
       "    .dataframe tbody tr th:only-of-type {\n",
       "        vertical-align: middle;\n",
       "    }\n",
       "\n",
       "    .dataframe tbody tr th {\n",
       "        vertical-align: top;\n",
       "    }\n",
       "\n",
       "    .dataframe thead th {\n",
       "        text-align: right;\n",
       "    }\n",
       "</style>\n",
       "<table border=\"1\" class=\"dataframe\">\n",
       "  <thead>\n",
       "    <tr style=\"text-align: right;\">\n",
       "      <th></th>\n",
       "      <th>call_number</th>\n",
       "      <th>unit_id</th>\n",
       "      <th>incident_number</th>\n",
       "      <th>call_type</th>\n",
       "      <th>call_date</th>\n",
       "      <th>watch_date</th>\n",
       "      <th>received_dttm</th>\n",
       "      <th>entry_dttm</th>\n",
       "      <th>dispatch_dttm</th>\n",
       "      <th>response_dttm</th>\n",
       "      <th>...</th>\n",
       "      <th>number_of_alarms</th>\n",
       "      <th>unit_type</th>\n",
       "      <th>unit_sequence_in_call_dispatch</th>\n",
       "      <th>fire_prevention_district</th>\n",
       "      <th>supervisor_district</th>\n",
       "      <th>neighborhoods_analysis_boundaries</th>\n",
       "      <th>rowid</th>\n",
       "      <th>case_location</th>\n",
       "      <th>transport_dttm</th>\n",
       "      <th>hospital_dttm</th>\n",
       "    </tr>\n",
       "  </thead>\n",
       "  <tbody>\n",
       "    <tr>\n",
       "      <th>2546</th>\n",
       "      <td>220061353</td>\n",
       "      <td>E36</td>\n",
       "      <td>22002799</td>\n",
       "      <td>Medical Incident</td>\n",
       "      <td>2022-01-06T00:00:00.000</td>\n",
       "      <td>2022-01-06T00:00:00.000</td>\n",
       "      <td>2022-01-06T11:41:14.000</td>\n",
       "      <td>2022-01-06T11:42:44.000</td>\n",
       "      <td>2022-01-06T11:42:52.000</td>\n",
       "      <td>2022-01-06T11:44:52.000</td>\n",
       "      <td>...</td>\n",
       "      <td>1</td>\n",
       "      <td>ENGINE</td>\n",
       "      <td>1</td>\n",
       "      <td>2.0</td>\n",
       "      <td>5</td>\n",
       "      <td>Hayes Valley</td>\n",
       "      <td>220061353-E36</td>\n",
       "      <td>{'type': 'Point', 'coordinates': [-122.4251974...</td>\n",
       "      <td>NaN</td>\n",
       "      <td>NaN</td>\n",
       "    </tr>\n",
       "    <tr>\n",
       "      <th>7667</th>\n",
       "      <td>220110719</td>\n",
       "      <td>E05</td>\n",
       "      <td>22005209</td>\n",
       "      <td>Structure Fire</td>\n",
       "      <td>2022-01-11T00:00:00.000</td>\n",
       "      <td>2022-01-11T00:00:00.000</td>\n",
       "      <td>2022-01-11T08:40:51.000</td>\n",
       "      <td>2022-01-11T08:40:51.000</td>\n",
       "      <td>2022-01-11T08:41:35.000</td>\n",
       "      <td>2022-01-11T08:42:55.000</td>\n",
       "      <td>...</td>\n",
       "      <td>1</td>\n",
       "      <td>ENGINE</td>\n",
       "      <td>5</td>\n",
       "      <td>2</td>\n",
       "      <td>6</td>\n",
       "      <td>Tenderloin</td>\n",
       "      <td>220110719-E05</td>\n",
       "      <td>{'type': 'Point', 'coordinates': [-122.4121906...</td>\n",
       "      <td>NaN</td>\n",
       "      <td>NaN</td>\n",
       "    </tr>\n",
       "    <tr>\n",
       "      <th>2912</th>\n",
       "      <td>220060068</td>\n",
       "      <td>E29</td>\n",
       "      <td>22002579</td>\n",
       "      <td>Alarms</td>\n",
       "      <td>2022-01-06T00:00:00.000</td>\n",
       "      <td>2022-01-05T00:00:00.000</td>\n",
       "      <td>2022-01-06T00:44:40.000</td>\n",
       "      <td>2022-01-06T00:46:30.000</td>\n",
       "      <td>2022-01-06T00:47:07.000</td>\n",
       "      <td>2022-01-06T00:48:36.000</td>\n",
       "      <td>...</td>\n",
       "      <td>1</td>\n",
       "      <td>ENGINE</td>\n",
       "      <td>1</td>\n",
       "      <td>10.0</td>\n",
       "      <td>10</td>\n",
       "      <td>Potrero Hill</td>\n",
       "      <td>220060068-E29</td>\n",
       "      <td>{'type': 'Point', 'coordinates': [-122.3986985...</td>\n",
       "      <td>NaN</td>\n",
       "      <td>NaN</td>\n",
       "    </tr>\n",
       "    <tr>\n",
       "      <th>1182</th>\n",
       "      <td>220052624</td>\n",
       "      <td>E35</td>\n",
       "      <td>22002427</td>\n",
       "      <td>Medical Incident</td>\n",
       "      <td>2022-01-05T00:00:00.000</td>\n",
       "      <td>2022-01-05T00:00:00.000</td>\n",
       "      <td>2022-01-05T17:57:47.000</td>\n",
       "      <td>2022-01-05T18:01:03.000</td>\n",
       "      <td>2022-01-05T18:04:16.000</td>\n",
       "      <td>2022-01-05T18:06:04.000</td>\n",
       "      <td>...</td>\n",
       "      <td>1</td>\n",
       "      <td>ENGINE</td>\n",
       "      <td>1</td>\n",
       "      <td>3</td>\n",
       "      <td>6</td>\n",
       "      <td>Financial District/South Beach</td>\n",
       "      <td>220052624-E35</td>\n",
       "      <td>{'type': 'Point', 'coordinates': [-122.3932397...</td>\n",
       "      <td>NaN</td>\n",
       "      <td>NaN</td>\n",
       "    </tr>\n",
       "    <tr>\n",
       "      <th>6705</th>\n",
       "      <td>220100270</td>\n",
       "      <td>T07</td>\n",
       "      <td>22004612</td>\n",
       "      <td>Alarms</td>\n",
       "      <td>2022-01-10T00:00:00.000</td>\n",
       "      <td>2022-01-09T00:00:00.000</td>\n",
       "      <td>2022-01-10T04:10:32.000</td>\n",
       "      <td>2022-01-10T04:12:01.000</td>\n",
       "      <td>2022-01-10T04:12:26.000</td>\n",
       "      <td>2022-01-10T04:14:14.000</td>\n",
       "      <td>...</td>\n",
       "      <td>1</td>\n",
       "      <td>TRUCK</td>\n",
       "      <td>2</td>\n",
       "      <td>6</td>\n",
       "      <td>9</td>\n",
       "      <td>Mission</td>\n",
       "      <td>220100270-T07</td>\n",
       "      <td>{'type': 'Point', 'coordinates': [-122.4183512...</td>\n",
       "      <td>NaN</td>\n",
       "      <td>NaN</td>\n",
       "    </tr>\n",
       "  </tbody>\n",
       "</table>\n",
       "<p>5 rows × 34 columns</p>\n",
       "</div>"
      ],
      "text/plain": [
       "      call_number unit_id  incident_number         call_type  \\\n",
       "2546    220061353     E36         22002799  Medical Incident   \n",
       "7667    220110719     E05         22005209    Structure Fire   \n",
       "2912    220060068     E29         22002579            Alarms   \n",
       "1182    220052624     E35         22002427  Medical Incident   \n",
       "6705    220100270     T07         22004612            Alarms   \n",
       "\n",
       "                    call_date               watch_date  \\\n",
       "2546  2022-01-06T00:00:00.000  2022-01-06T00:00:00.000   \n",
       "7667  2022-01-11T00:00:00.000  2022-01-11T00:00:00.000   \n",
       "2912  2022-01-06T00:00:00.000  2022-01-05T00:00:00.000   \n",
       "1182  2022-01-05T00:00:00.000  2022-01-05T00:00:00.000   \n",
       "6705  2022-01-10T00:00:00.000  2022-01-09T00:00:00.000   \n",
       "\n",
       "                received_dttm               entry_dttm  \\\n",
       "2546  2022-01-06T11:41:14.000  2022-01-06T11:42:44.000   \n",
       "7667  2022-01-11T08:40:51.000  2022-01-11T08:40:51.000   \n",
       "2912  2022-01-06T00:44:40.000  2022-01-06T00:46:30.000   \n",
       "1182  2022-01-05T17:57:47.000  2022-01-05T18:01:03.000   \n",
       "6705  2022-01-10T04:10:32.000  2022-01-10T04:12:01.000   \n",
       "\n",
       "                dispatch_dttm            response_dttm  ... number_of_alarms  \\\n",
       "2546  2022-01-06T11:42:52.000  2022-01-06T11:44:52.000  ...                1   \n",
       "7667  2022-01-11T08:41:35.000  2022-01-11T08:42:55.000  ...                1   \n",
       "2912  2022-01-06T00:47:07.000  2022-01-06T00:48:36.000  ...                1   \n",
       "1182  2022-01-05T18:04:16.000  2022-01-05T18:06:04.000  ...                1   \n",
       "6705  2022-01-10T04:12:26.000  2022-01-10T04:14:14.000  ...                1   \n",
       "\n",
       "     unit_type unit_sequence_in_call_dispatch fire_prevention_district  \\\n",
       "2546    ENGINE                              1                      2.0   \n",
       "7667    ENGINE                              5                        2   \n",
       "2912    ENGINE                              1                     10.0   \n",
       "1182    ENGINE                              1                        3   \n",
       "6705     TRUCK                              2                        6   \n",
       "\n",
       "     supervisor_district  neighborhoods_analysis_boundaries          rowid  \\\n",
       "2546                   5                       Hayes Valley  220061353-E36   \n",
       "7667                   6                         Tenderloin  220110719-E05   \n",
       "2912                  10                       Potrero Hill  220060068-E29   \n",
       "1182                   6     Financial District/South Beach  220052624-E35   \n",
       "6705                   9                            Mission  220100270-T07   \n",
       "\n",
       "                                          case_location  transport_dttm  \\\n",
       "2546  {'type': 'Point', 'coordinates': [-122.4251974...             NaN   \n",
       "7667  {'type': 'Point', 'coordinates': [-122.4121906...             NaN   \n",
       "2912  {'type': 'Point', 'coordinates': [-122.3986985...             NaN   \n",
       "1182  {'type': 'Point', 'coordinates': [-122.3932397...             NaN   \n",
       "6705  {'type': 'Point', 'coordinates': [-122.4183512...             NaN   \n",
       "\n",
       "     hospital_dttm  \n",
       "2546           NaN  \n",
       "7667           NaN  \n",
       "2912           NaN  \n",
       "1182           NaN  \n",
       "6705           NaN  \n",
       "\n",
       "[5 rows x 34 columns]"
      ]
     },
     "execution_count": 28,
     "metadata": {},
     "output_type": "execute_result"
    }
   ],
   "source": [
    "# set 10 day lookback window\n",
    "periodend = datetime.datetime.now().isoformat()\n",
    "periodstart = (datetime.datetime.now()- datetime.timedelta(days=10)).isoformat()\n",
    "#Get count of incidents to determine limit to retrieve\n",
    "num=pd.read_json(\"https://data.sfgov.org/resource/RowID.json?$select=COUNT(incident_number)&$where=call_date%20between%20%27\"\n",
    "                 +str(periodstart)+\"%27%20AND%20%27\"+str(periodend)+\"%27\")\n",
    "maxNumber=num.iloc[0,0]\n",
    "print('The number of incidents in the set is',maxNumber)\n",
    "# Use record to write query call to API to get all incidents needed/bypass API default of 1000\n",
    "query_str=(\"https://data.sfgov.org/resource/RowID.json?$where=call_date%20between%20%27\"\n",
    "           +str(periodstart)+\"%27%20AND%20%27\"\n",
    "           +str(periodend)+\"%27&$limit=\"+str(maxNumber))\n",
    "cfs_data=pd.read_json(query_str)\n",
    "print(cfs_data.shape)\n",
    "cfs_data.sample(5)"
   ]
  },
  {
   "cell_type": "code",
   "execution_count": 32,
   "id": "53119a7a-a0aa-4662-a244-432fb15ef6b4",
   "metadata": {},
   "outputs": [],
   "source": [
    "cfs_data=cfs_data.dropna()\n",
    "cfs_data= cfs_data.astype(str)\n",
    "cfs_data=cfs_data.head(500)\n",
    "cfs_data_tapas=cfs_data[['call_date','call_type','neighborhoods_analysis_boundaries']]"
   ]
  },
  {
   "cell_type": "code",
   "execution_count": 33,
   "id": "fe47b148-f74f-47e4-952a-2e5232421c27",
   "metadata": {},
   "outputs": [],
   "source": [
    "queries = [\"When was the most recent medical incident?\", \"How many incidents are in Tenderloin?\"]"
   ]
  },
  {
   "cell_type": "code",
   "execution_count": 34,
   "id": "f12f7c6f-d73f-4040-bcfb-ac052e4c04fb",
   "metadata": {},
   "outputs": [
    {
     "ename": "IndexError",
     "evalue": "iloc cannot enlarge its target object",
     "output_type": "error",
     "traceback": [
      "\u001b[0;31m---------------------------------------------------------------------------\u001b[0m",
      "\u001b[0;31mIndexError\u001b[0m                                Traceback (most recent call last)",
      "\u001b[0;32m<ipython-input-34-89b292d6917a>\u001b[0m in \u001b[0;36m<module>\u001b[0;34m\u001b[0m\n\u001b[0;32m----> 1\u001b[0;31m \u001b[0minputs\u001b[0m \u001b[0;34m=\u001b[0m \u001b[0mtokenizer\u001b[0m\u001b[0;34m(\u001b[0m\u001b[0mtable\u001b[0m\u001b[0;34m=\u001b[0m\u001b[0mcfs_data\u001b[0m\u001b[0;34m,\u001b[0m \u001b[0mqueries\u001b[0m\u001b[0;34m=\u001b[0m\u001b[0mqueries\u001b[0m\u001b[0;34m,\u001b[0m \u001b[0mpadding\u001b[0m\u001b[0;34m=\u001b[0m\u001b[0;34m\"max_length\"\u001b[0m\u001b[0;34m,\u001b[0m \u001b[0mreturn_tensors\u001b[0m\u001b[0;34m=\u001b[0m\u001b[0;34m\"pt\"\u001b[0m\u001b[0;34m)\u001b[0m\u001b[0;34m\u001b[0m\u001b[0;34m\u001b[0m\u001b[0m\n\u001b[0m",
      "\u001b[0;32m~/anaconda3/lib/python3.8/site-packages/transformers/models/tapas/tokenization_tapas.py\u001b[0m in \u001b[0;36m__call__\u001b[0;34m(self, table, queries, answer_coordinates, answer_text, add_special_tokens, padding, truncation, max_length, pad_to_multiple_of, return_tensors, return_token_type_ids, return_attention_mask, return_overflowing_tokens, return_special_tokens_mask, return_offsets_mapping, return_length, verbose, **kwargs)\u001b[0m\n\u001b[1;32m    603\u001b[0m \u001b[0;34m\u001b[0m\u001b[0m\n\u001b[1;32m    604\u001b[0m         \u001b[0;32mif\u001b[0m \u001b[0mis_batched\u001b[0m\u001b[0;34m:\u001b[0m\u001b[0;34m\u001b[0m\u001b[0;34m\u001b[0m\u001b[0m\n\u001b[0;32m--> 605\u001b[0;31m             return self.batch_encode_plus(\n\u001b[0m\u001b[1;32m    606\u001b[0m                 \u001b[0mtable\u001b[0m\u001b[0;34m=\u001b[0m\u001b[0mtable\u001b[0m\u001b[0;34m,\u001b[0m\u001b[0;34m\u001b[0m\u001b[0;34m\u001b[0m\u001b[0m\n\u001b[1;32m    607\u001b[0m                 \u001b[0mqueries\u001b[0m\u001b[0;34m=\u001b[0m\u001b[0mqueries\u001b[0m\u001b[0;34m,\u001b[0m\u001b[0;34m\u001b[0m\u001b[0;34m\u001b[0m\u001b[0m\n",
      "\u001b[0;32m~/anaconda3/lib/python3.8/site-packages/transformers/models/tapas/tokenization_tapas.py\u001b[0m in \u001b[0;36mbatch_encode_plus\u001b[0;34m(self, table, queries, answer_coordinates, answer_text, add_special_tokens, padding, truncation, max_length, pad_to_multiple_of, return_tensors, return_token_type_ids, return_attention_mask, return_overflowing_tokens, return_special_tokens_mask, return_offsets_mapping, return_length, verbose, **kwargs)\u001b[0m\n\u001b[1;32m    721\u001b[0m             )\n\u001b[1;32m    722\u001b[0m \u001b[0;34m\u001b[0m\u001b[0m\n\u001b[0;32m--> 723\u001b[0;31m         return self._batch_encode_plus(\n\u001b[0m\u001b[1;32m    724\u001b[0m             \u001b[0mtable\u001b[0m\u001b[0;34m=\u001b[0m\u001b[0mtable\u001b[0m\u001b[0;34m,\u001b[0m\u001b[0;34m\u001b[0m\u001b[0;34m\u001b[0m\u001b[0m\n\u001b[1;32m    725\u001b[0m             \u001b[0mqueries\u001b[0m\u001b[0;34m=\u001b[0m\u001b[0mqueries\u001b[0m\u001b[0;34m,\u001b[0m\u001b[0;34m\u001b[0m\u001b[0;34m\u001b[0m\u001b[0m\n",
      "\u001b[0;32m~/anaconda3/lib/python3.8/site-packages/transformers/models/tapas/tokenization_tapas.py\u001b[0m in \u001b[0;36m_batch_encode_plus\u001b[0;34m(self, table, queries, answer_coordinates, answer_text, add_special_tokens, padding, truncation, max_length, pad_to_multiple_of, return_tensors, return_token_type_ids, return_attention_mask, return_overflowing_tokens, return_special_tokens_mask, return_offsets_mapping, return_length, verbose, **kwargs)\u001b[0m\n\u001b[1;32m    788\u001b[0m             \u001b[0mqueries_tokens\u001b[0m\u001b[0;34m.\u001b[0m\u001b[0mappend\u001b[0m\u001b[0;34m(\u001b[0m\u001b[0mquery_tokens\u001b[0m\u001b[0;34m)\u001b[0m\u001b[0;34m\u001b[0m\u001b[0;34m\u001b[0m\u001b[0m\n\u001b[1;32m    789\u001b[0m \u001b[0;34m\u001b[0m\u001b[0m\n\u001b[0;32m--> 790\u001b[0;31m         batch_outputs = self._batch_prepare_for_model(\n\u001b[0m\u001b[1;32m    791\u001b[0m             \u001b[0mtable\u001b[0m\u001b[0;34m,\u001b[0m\u001b[0;34m\u001b[0m\u001b[0;34m\u001b[0m\u001b[0m\n\u001b[1;32m    792\u001b[0m             \u001b[0mqueries\u001b[0m\u001b[0;34m,\u001b[0m\u001b[0;34m\u001b[0m\u001b[0;34m\u001b[0m\u001b[0m\n",
      "\u001b[0;32m~/anaconda3/lib/python3.8/site-packages/transformers/models/tapas/tokenization_tapas.py\u001b[0m in \u001b[0;36m_batch_prepare_for_model\u001b[0;34m(self, raw_table, raw_queries, tokenized_table, queries_tokens, answer_coordinates, answer_text, add_special_tokens, padding, truncation, max_length, pad_to_multiple_of, return_tensors, return_token_type_ids, return_attention_mask, return_special_tokens_mask, return_offsets_mapping, return_length, verbose, prepend_batch_axis, **kwargs)\u001b[0m\n\u001b[1;32m    843\u001b[0m         \u001b[0;32mfor\u001b[0m \u001b[0mindex\u001b[0m\u001b[0;34m,\u001b[0m \u001b[0mexample\u001b[0m \u001b[0;32min\u001b[0m \u001b[0menumerate\u001b[0m\u001b[0;34m(\u001b[0m\u001b[0mzip\u001b[0m\u001b[0;34m(\u001b[0m\u001b[0mraw_queries\u001b[0m\u001b[0;34m,\u001b[0m \u001b[0mqueries_tokens\u001b[0m\u001b[0;34m,\u001b[0m \u001b[0manswer_coordinates\u001b[0m\u001b[0;34m,\u001b[0m \u001b[0manswer_text\u001b[0m\u001b[0;34m)\u001b[0m\u001b[0;34m)\u001b[0m\u001b[0;34m:\u001b[0m\u001b[0;34m\u001b[0m\u001b[0;34m\u001b[0m\u001b[0m\n\u001b[1;32m    844\u001b[0m             \u001b[0mraw_query\u001b[0m\u001b[0;34m,\u001b[0m \u001b[0mquery_tokens\u001b[0m\u001b[0;34m,\u001b[0m \u001b[0manswer_coords\u001b[0m\u001b[0;34m,\u001b[0m \u001b[0manswer_txt\u001b[0m \u001b[0;34m=\u001b[0m \u001b[0mexample\u001b[0m\u001b[0;34m\u001b[0m\u001b[0;34m\u001b[0m\u001b[0m\n\u001b[0;32m--> 845\u001b[0;31m             outputs = self.prepare_for_model(\n\u001b[0m\u001b[1;32m    846\u001b[0m                 \u001b[0mraw_table\u001b[0m\u001b[0;34m,\u001b[0m\u001b[0;34m\u001b[0m\u001b[0;34m\u001b[0m\u001b[0m\n\u001b[1;32m    847\u001b[0m                 \u001b[0mraw_query\u001b[0m\u001b[0;34m,\u001b[0m\u001b[0;34m\u001b[0m\u001b[0;34m\u001b[0m\u001b[0m\n",
      "\u001b[0;32m~/anaconda3/lib/python3.8/site-packages/transformers/models/tapas/tokenization_tapas.py\u001b[0m in \u001b[0;36mprepare_for_model\u001b[0;34m(self, raw_table, raw_query, tokenized_table, query_tokens, answer_coordinates, answer_text, add_special_tokens, padding, truncation, max_length, pad_to_multiple_of, return_tensors, return_token_type_ids, return_attention_mask, return_special_tokens_mask, return_offsets_mapping, return_length, verbose, prepend_batch_axis, **kwargs)\u001b[0m\n\u001b[1;32m   1182\u001b[0m         \u001b[0;31m# FIRST: parse both the table and question in terms of numeric values\u001b[0m\u001b[0;34m\u001b[0m\u001b[0;34m\u001b[0m\u001b[0;34m\u001b[0m\u001b[0m\n\u001b[1;32m   1183\u001b[0m \u001b[0;34m\u001b[0m\u001b[0m\n\u001b[0;32m-> 1184\u001b[0;31m         \u001b[0mraw_table\u001b[0m \u001b[0;34m=\u001b[0m \u001b[0madd_numeric_table_values\u001b[0m\u001b[0;34m(\u001b[0m\u001b[0mraw_table\u001b[0m\u001b[0;34m)\u001b[0m\u001b[0;34m\u001b[0m\u001b[0;34m\u001b[0m\u001b[0m\n\u001b[0m\u001b[1;32m   1185\u001b[0m         \u001b[0mraw_query\u001b[0m \u001b[0;34m=\u001b[0m \u001b[0madd_numeric_values_to_question\u001b[0m\u001b[0;34m(\u001b[0m\u001b[0mraw_query\u001b[0m\u001b[0;34m)\u001b[0m\u001b[0;34m\u001b[0m\u001b[0;34m\u001b[0m\u001b[0m\n\u001b[1;32m   1186\u001b[0m \u001b[0;34m\u001b[0m\u001b[0m\n",
      "\u001b[0;32m~/anaconda3/lib/python3.8/site-packages/transformers/models/tapas/tokenization_tapas.py\u001b[0m in \u001b[0;36madd_numeric_table_values\u001b[0;34m(table, min_consolidation_fraction, debug_info)\u001b[0m\n\u001b[1;32m   2765\u001b[0m     \u001b[0;32mfor\u001b[0m \u001b[0mrow_index\u001b[0m\u001b[0;34m,\u001b[0m \u001b[0mrow\u001b[0m \u001b[0;32min\u001b[0m \u001b[0mtable\u001b[0m\u001b[0;34m.\u001b[0m\u001b[0miterrows\u001b[0m\u001b[0;34m(\u001b[0m\u001b[0;34m)\u001b[0m\u001b[0;34m:\u001b[0m\u001b[0;34m\u001b[0m\u001b[0;34m\u001b[0m\u001b[0m\n\u001b[1;32m   2766\u001b[0m         \u001b[0;32mfor\u001b[0m \u001b[0mcol_index\u001b[0m\u001b[0;34m,\u001b[0m \u001b[0mcell\u001b[0m \u001b[0;32min\u001b[0m \u001b[0menumerate\u001b[0m\u001b[0;34m(\u001b[0m\u001b[0mrow\u001b[0m\u001b[0;34m)\u001b[0m\u001b[0;34m:\u001b[0m\u001b[0;34m\u001b[0m\u001b[0;34m\u001b[0m\u001b[0m\n\u001b[0;32m-> 2767\u001b[0;31m             \u001b[0mtable\u001b[0m\u001b[0;34m.\u001b[0m\u001b[0miloc\u001b[0m\u001b[0;34m[\u001b[0m\u001b[0mrow_index\u001b[0m\u001b[0;34m,\u001b[0m \u001b[0mcol_index\u001b[0m\u001b[0;34m]\u001b[0m \u001b[0;34m=\u001b[0m \u001b[0mCell\u001b[0m\u001b[0;34m(\u001b[0m\u001b[0mtext\u001b[0m\u001b[0;34m=\u001b[0m\u001b[0mcell\u001b[0m\u001b[0;34m)\u001b[0m\u001b[0;34m\u001b[0m\u001b[0;34m\u001b[0m\u001b[0m\n\u001b[0m\u001b[1;32m   2768\u001b[0m \u001b[0;34m\u001b[0m\u001b[0m\n\u001b[1;32m   2769\u001b[0m     \u001b[0;31m# Third, add numeric_value attributes to these Cell objects\u001b[0m\u001b[0;34m\u001b[0m\u001b[0;34m\u001b[0m\u001b[0;34m\u001b[0m\u001b[0m\n",
      "\u001b[0;32m~/anaconda3/lib/python3.8/site-packages/pandas/core/indexing.py\u001b[0m in \u001b[0;36m__setitem__\u001b[0;34m(self, key, value)\u001b[0m\n\u001b[1;32m    687\u001b[0m             \u001b[0mkey\u001b[0m \u001b[0;34m=\u001b[0m \u001b[0mcom\u001b[0m\u001b[0;34m.\u001b[0m\u001b[0mapply_if_callable\u001b[0m\u001b[0;34m(\u001b[0m\u001b[0mkey\u001b[0m\u001b[0;34m,\u001b[0m \u001b[0mself\u001b[0m\u001b[0;34m.\u001b[0m\u001b[0mobj\u001b[0m\u001b[0;34m)\u001b[0m\u001b[0;34m\u001b[0m\u001b[0;34m\u001b[0m\u001b[0m\n\u001b[1;32m    688\u001b[0m         \u001b[0mindexer\u001b[0m \u001b[0;34m=\u001b[0m \u001b[0mself\u001b[0m\u001b[0;34m.\u001b[0m\u001b[0m_get_setitem_indexer\u001b[0m\u001b[0;34m(\u001b[0m\u001b[0mkey\u001b[0m\u001b[0;34m)\u001b[0m\u001b[0;34m\u001b[0m\u001b[0;34m\u001b[0m\u001b[0m\n\u001b[0;32m--> 689\u001b[0;31m         \u001b[0mself\u001b[0m\u001b[0;34m.\u001b[0m\u001b[0m_has_valid_setitem_indexer\u001b[0m\u001b[0;34m(\u001b[0m\u001b[0mkey\u001b[0m\u001b[0;34m)\u001b[0m\u001b[0;34m\u001b[0m\u001b[0;34m\u001b[0m\u001b[0m\n\u001b[0m\u001b[1;32m    690\u001b[0m \u001b[0;34m\u001b[0m\u001b[0m\n\u001b[1;32m    691\u001b[0m         \u001b[0miloc\u001b[0m \u001b[0;34m=\u001b[0m \u001b[0mself\u001b[0m \u001b[0;32mif\u001b[0m \u001b[0mself\u001b[0m\u001b[0;34m.\u001b[0m\u001b[0mname\u001b[0m \u001b[0;34m==\u001b[0m \u001b[0;34m\"iloc\"\u001b[0m \u001b[0;32melse\u001b[0m \u001b[0mself\u001b[0m\u001b[0;34m.\u001b[0m\u001b[0mobj\u001b[0m\u001b[0;34m.\u001b[0m\u001b[0miloc\u001b[0m\u001b[0;34m\u001b[0m\u001b[0;34m\u001b[0m\u001b[0m\n",
      "\u001b[0;32m~/anaconda3/lib/python3.8/site-packages/pandas/core/indexing.py\u001b[0m in \u001b[0;36m_has_valid_setitem_indexer\u001b[0;34m(self, indexer)\u001b[0m\n\u001b[1;32m   1399\u001b[0m             \u001b[0;32melif\u001b[0m \u001b[0mis_integer\u001b[0m\u001b[0;34m(\u001b[0m\u001b[0mi\u001b[0m\u001b[0;34m)\u001b[0m\u001b[0;34m:\u001b[0m\u001b[0;34m\u001b[0m\u001b[0;34m\u001b[0m\u001b[0m\n\u001b[1;32m   1400\u001b[0m                 \u001b[0;32mif\u001b[0m \u001b[0mi\u001b[0m \u001b[0;34m>=\u001b[0m \u001b[0mlen\u001b[0m\u001b[0;34m(\u001b[0m\u001b[0max\u001b[0m\u001b[0;34m)\u001b[0m\u001b[0;34m:\u001b[0m\u001b[0;34m\u001b[0m\u001b[0;34m\u001b[0m\u001b[0m\n\u001b[0;32m-> 1401\u001b[0;31m                     \u001b[0;32mraise\u001b[0m \u001b[0mIndexError\u001b[0m\u001b[0;34m(\u001b[0m\u001b[0;34m\"iloc cannot enlarge its target object\"\u001b[0m\u001b[0;34m)\u001b[0m\u001b[0;34m\u001b[0m\u001b[0;34m\u001b[0m\u001b[0m\n\u001b[0m\u001b[1;32m   1402\u001b[0m             \u001b[0;32melif\u001b[0m \u001b[0misinstance\u001b[0m\u001b[0;34m(\u001b[0m\u001b[0mi\u001b[0m\u001b[0;34m,\u001b[0m \u001b[0mdict\u001b[0m\u001b[0;34m)\u001b[0m\u001b[0;34m:\u001b[0m\u001b[0;34m\u001b[0m\u001b[0;34m\u001b[0m\u001b[0m\n\u001b[1;32m   1403\u001b[0m                 \u001b[0;32mraise\u001b[0m \u001b[0mIndexError\u001b[0m\u001b[0;34m(\u001b[0m\u001b[0;34m\"iloc cannot enlarge its target object\"\u001b[0m\u001b[0;34m)\u001b[0m\u001b[0;34m\u001b[0m\u001b[0;34m\u001b[0m\u001b[0m\n",
      "\u001b[0;31mIndexError\u001b[0m: iloc cannot enlarge its target object"
     ]
    }
   ],
   "source": [
    "inputs = tokenizer(table=cfs_data, queries=queries, padding=\"max_length\", return_tensors=\"pt\")"
   ]
  },
  {
   "cell_type": "code",
   "execution_count": 35,
   "id": "d48378e5-cea4-405f-a807-0367492bc407",
   "metadata": {},
   "outputs": [],
   "source": [
    "data = {'Actors': [\"Brad Pitt\", \"Leonardo Di Caprio\", \"George Clooney\"],\n",
    "        'Age': [\"56\", \"45\", \"59\"],\n",
    "        'Number of movies': [\"87\", \"53\", \"69\"]\n",
    "}\n",
    "table = pd.DataFrame.from_dict(data)\n",
    "queries = [\"How many movies has George Clooney played in?\", \"How old is Brad Pitt?\"]\n",
    "\n",
    "inputs = tokenizer(table=table, queries=queries, padding=\"max_length\", return_tensors=\"pt\")\n",
    "outputs = model(**inputs)\n",
    "\n",
    "logits = outputs.logits\n",
    "logits_aggregation = outputs.logits_aggregation"
   ]
  },
  {
   "cell_type": "code",
   "execution_count": 36,
   "id": "83c8401b-406e-4087-aac2-7b4abf4399c2",
   "metadata": {},
   "outputs": [
    {
     "data": {
      "text/plain": [
       "TableQuestionAnsweringOutput(loss=None, logits=tensor([[ -9951.5186,  -9951.5186,  -9951.5186,  ...,  -9951.5186,\n",
       "          -9951.5186,  -9951.5186],\n",
       "        [-10042.0918, -10042.0918, -10042.0918,  ..., -10042.0918,\n",
       "         -10042.0918, -10042.0918]], grad_fn=<ViewBackward0>), logits_aggregation=tensor([[ -8.4079,  -9.4974, -10.9121,  12.9523],\n",
       "        [ -1.2786, -14.6947,  16.3172, -18.6797]], grad_fn=<AddmmBackward0>), hidden_states=None, attentions=None)"
      ]
     },
     "execution_count": 36,
     "metadata": {},
     "output_type": "execute_result"
    }
   ],
   "source": [
    "outputs"
   ]
  },
  {
   "cell_type": "code",
   "execution_count": 38,
   "id": "9fb80225-1f81-47c0-8e3c-50a8142df7a7",
   "metadata": {},
   "outputs": [
    {
     "data": {
      "text/plain": [
       "tensor([[ -9951.5186,  -9951.5186,  -9951.5186,  ...,  -9951.5186,\n",
       "          -9951.5186,  -9951.5186],\n",
       "        [-10042.0918, -10042.0918, -10042.0918,  ..., -10042.0918,\n",
       "         -10042.0918, -10042.0918]], grad_fn=<ViewBackward0>)"
      ]
     },
     "execution_count": 38,
     "metadata": {},
     "output_type": "execute_result"
    }
   ],
   "source": [
    "logits"
   ]
  },
  {
   "cell_type": "code",
   "execution_count": null,
   "id": "1eeab51b-5a0f-4550-acb8-b38f6c5a1c66",
   "metadata": {},
   "outputs": [],
   "source": []
  }
 ],
 "metadata": {
  "kernelspec": {
   "display_name": "Python 3",
   "language": "python",
   "name": "python3"
  },
  "language_info": {
   "codemirror_mode": {
    "name": "ipython",
    "version": 3
   },
   "file_extension": ".py",
   "mimetype": "text/x-python",
   "name": "python",
   "nbconvert_exporter": "python",
   "pygments_lexer": "ipython3",
   "version": "3.8.8"
  }
 },
 "nbformat": 4,
 "nbformat_minor": 5
}
